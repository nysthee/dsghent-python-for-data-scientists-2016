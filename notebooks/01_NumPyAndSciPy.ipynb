{
 "cells": [
  {
   "cell_type": "markdown",
   "metadata": {},
   "source": [
    "# NumPy and SciPy"
   ]
  },
  {
   "cell_type": "markdown",
   "metadata": {},
   "source": [
    "## NumPy"
   ]
  },
  {
   "cell_type": "markdown",
   "metadata": {},
   "source": [
    "[NumPy](http://www.numpy.org/) adds efficient vectors and matrices to Python that support vectorized operations"
   ]
  },
  {
   "cell_type": "code",
   "execution_count": 1,
   "metadata": {
    "collapsed": true
   },
   "outputs": [],
   "source": [
    "import numpy as np  # Idiomatic import"
   ]
  },
  {
   "cell_type": "code",
   "execution_count": 2,
   "metadata": {
    "collapsed": false
   },
   "outputs": [
    {
     "data": {
      "text/plain": [
       "array([ 1. ,  1.5,  2. ,  2.5])"
      ]
     },
     "execution_count": 2,
     "metadata": {},
     "output_type": "execute_result"
    }
   ],
   "source": [
    "# Create a NumPy Array\n",
    "A = np.array([1,1.5,2,2.5])\n",
    "A"
   ]
  },
  {
   "cell_type": "code",
   "execution_count": 3,
   "metadata": {
    "collapsed": false
   },
   "outputs": [
    {
     "data": {
      "text/plain": [
       "array([ 1.,  1.,  1.,  1.])"
      ]
     },
     "execution_count": 3,
     "metadata": {},
     "output_type": "execute_result"
    }
   ],
   "source": [
    "# Create another one filled with ones\n",
    "B = np.ones(4)\n",
    "B"
   ]
  },
  {
   "cell_type": "code",
   "execution_count": 4,
   "metadata": {
    "collapsed": false
   },
   "outputs": [
    {
     "data": {
      "text/plain": [
       "array([ 0.        ,  0.11111111,  0.22222222,  0.33333333,  0.44444444,\n",
       "        0.55555556,  0.66666667,  0.77777778,  0.88888889,  1.        ])"
      ]
     },
     "execution_count": 4,
     "metadata": {},
     "output_type": "execute_result"
    }
   ],
   "source": [
    "np.linspace(0.0, 1.0, 10)"
   ]
  },
  {
   "cell_type": "code",
   "execution_count": 5,
   "metadata": {
    "collapsed": false
   },
   "outputs": [
    {
     "name": "stdout",
     "output_type": "stream",
     "text": [
      "[ 1.  1.]\n",
      "[ 1.  2.  2.  1.]\n"
     ]
    }
   ],
   "source": [
    "# Can slice and dice vector\n",
    "print(B[2:4])\n",
    "B[1:3] += 1\n",
    "print(B)"
   ]
  },
  {
   "cell_type": "code",
   "execution_count": 6,
   "metadata": {
    "collapsed": false
   },
   "outputs": [
    {
     "data": {
      "text/plain": [
       "array([ 4. ,  7.5,  8. ,  5.5])"
      ]
     },
     "execution_count": 6,
     "metadata": {},
     "output_type": "execute_result"
    }
   ],
   "source": [
    "# Vector operations\n",
    "C = A + 3*B\n",
    "C"
   ]
  },
  {
   "cell_type": "code",
   "execution_count": 7,
   "metadata": {
    "collapsed": false
   },
   "outputs": [
    {
     "name": "stdout",
     "output_type": "stream",
     "text": [
      "[   54.59815003  1808.04241446  2980.95798704   244.69193226]\n",
      "[-0.7568025   0.93799998  0.98935825 -0.70554033]\n",
      "8.0\n"
     ]
    }
   ],
   "source": [
    "print(np.exp(C))\n",
    "print(np.sin(C))\n",
    "print(np.max(C))"
   ]
  },
  {
   "cell_type": "code",
   "execution_count": 8,
   "metadata": {
    "collapsed": false
   },
   "outputs": [
    {
     "data": {
      "text/plain": [
       "10.5"
      ]
     },
     "execution_count": 8,
     "metadata": {},
     "output_type": "execute_result"
    }
   ],
   "source": [
    "# The usual operations as there\n",
    "A.dot(B)\n",
    "np.dot(A,B)"
   ]
  },
  {
   "cell_type": "code",
   "execution_count": 9,
   "metadata": {
    "collapsed": false
   },
   "outputs": [
    {
     "data": {
      "text/plain": [
       "array([[ 1.,  2.],\n",
       "       [ 3.,  4.]])"
      ]
     },
     "execution_count": 9,
     "metadata": {},
     "output_type": "execute_result"
    }
   ],
   "source": [
    "# Matrices represented as 2D arrays\n",
    "mat = np.array([\n",
    "        [1., 2.],\n",
    "        [3., 4.]\n",
    "    ])\n",
    "mat"
   ]
  },
  {
   "cell_type": "code",
   "execution_count": 10,
   "metadata": {
    "collapsed": false
   },
   "outputs": [
    {
     "data": {
      "text/plain": [
       "array([[ 1.,  3.],\n",
       "       [ 2.,  4.]])"
      ]
     },
     "execution_count": 10,
     "metadata": {},
     "output_type": "execute_result"
    }
   ],
   "source": [
    "# Transpose\n",
    "mat.T"
   ]
  },
  {
   "cell_type": "code",
   "execution_count": 11,
   "metadata": {
    "collapsed": false
   },
   "outputs": [
    {
     "name": "stdout",
     "output_type": "stream",
     "text": [
      "[  1.   2.   3.  10.  20.  30.]\n",
      "[[  1.   2.   3.]\n",
      " [ 10.  20.  30.]]\n"
     ]
    }
   ],
   "source": [
    "# Can also build larger arrays by stacking smaller ones\n",
    "x = np.array([1., 2., 3.])\n",
    "y = np.array([10., 20., 30.])\n",
    "print(np.hstack((x, y)))  # [x y]\n",
    "print(np.vstack((x, y)))  # / x \\\n",
    "                          # \\ y /"
   ]
  },
  {
   "cell_type": "code",
   "execution_count": 12,
   "metadata": {
    "collapsed": false
   },
   "outputs": [
    {
     "data": {
      "text/plain": [
       "array([ True, False,  True], dtype=bool)"
      ]
     },
     "execution_count": 12,
     "metadata": {},
     "output_type": "execute_result"
    }
   ],
   "source": [
    "# Can apply Boolean expressions element-wise..\n",
    "x % 2 == 1   # Which elements are odd?"
   ]
  },
  {
   "cell_type": "code",
   "execution_count": 13,
   "metadata": {
    "collapsed": false
   },
   "outputs": [
    {
     "data": {
      "text/plain": [
       "4.0"
      ]
     },
     "execution_count": 13,
     "metadata": {},
     "output_type": "execute_result"
    }
   ],
   "source": [
    "# ... and use result to filter\n",
    "np.sum(x[x % 2 == 1])  # Sum odd numbers in x"
   ]
  },
  {
   "cell_type": "markdown",
   "metadata": {},
   "source": [
    "## Linear Algebra"
   ]
  },
  {
   "cell_type": "code",
   "execution_count": 14,
   "metadata": {
    "collapsed": false
   },
   "outputs": [
    {
     "data": {
      "text/plain": [
       "array([ 17.,  39.])"
      ]
     },
     "execution_count": 14,
     "metadata": {},
     "output_type": "execute_result"
    }
   ],
   "source": [
    "# Matrix-vector product\n",
    "v = np.array([5., 6.])\n",
    "mat.dot(v)"
   ]
  },
  {
   "cell_type": "code",
   "execution_count": 15,
   "metadata": {
    "collapsed": false
   },
   "outputs": [
    {
     "data": {
      "text/plain": [
       "array([[ 1.,  2.],\n",
       "       [ 3.,  4.]])"
      ]
     },
     "execution_count": 15,
     "metadata": {},
     "output_type": "execute_result"
    }
   ],
   "source": [
    "mat"
   ]
  },
  {
   "cell_type": "code",
   "execution_count": 16,
   "metadata": {
    "collapsed": false
   },
   "outputs": [
    {
     "name": "stdout",
     "output_type": "stream",
     "text": [
      "[-0.37228132  5.37228132]\n",
      "[-0.82456484 -0.41597356]\n",
      "[ 0.56576746 -0.90937671]\n"
     ]
    }
   ],
   "source": [
    "# Eigenstuff\n",
    "eigvals, eigvecs = np.linalg.eig(mat)\n",
    "print(eigvals)\n",
    "print(eigvecs[0])\n",
    "print(eigvecs[1])"
   ]
  },
  {
   "cell_type": "code",
   "execution_count": 17,
   "metadata": {
    "collapsed": false
   },
   "outputs": [
    {
     "data": {
      "text/plain": [
       "-2.0000000000000004"
      ]
     },
     "execution_count": 17,
     "metadata": {},
     "output_type": "execute_result"
    }
   ],
   "source": [
    "# Determinants\n",
    "np.linalg.det(mat)"
   ]
  },
  {
   "cell_type": "code",
   "execution_count": 18,
   "metadata": {
    "collapsed": false
   },
   "outputs": [
    {
     "data": {
      "text/plain": [
       "array([[-2. ,  1. ],\n",
       "       [ 1.5, -0.5]])"
      ]
     },
     "execution_count": 18,
     "metadata": {},
     "output_type": "execute_result"
    }
   ],
   "source": [
    "# Matrix inverse\n",
    "np.linalg.inv(mat)"
   ]
  },
  {
   "cell_type": "code",
   "execution_count": 19,
   "metadata": {
    "collapsed": false
   },
   "outputs": [
    {
     "name": "stdout",
     "output_type": "stream",
     "text": [
      "[-4.   4.5]\n",
      "[-4.   4.5]\n"
     ]
    }
   ],
   "source": [
    "# Solve linear systems: M*x = v\n",
    "print(np.linalg.solve(mat, v))\n",
    "print(np.linalg.inv(mat).dot(v))"
   ]
  },
  {
   "cell_type": "code",
   "execution_count": 20,
   "metadata": {
    "collapsed": false
   },
   "outputs": [
    {
     "data": {
      "text/plain": [
       "['LinAlgError',\n",
       " '__builtins__',\n",
       " '__doc__',\n",
       " '__file__',\n",
       " '__name__',\n",
       " '__package__',\n",
       " '__path__',\n",
       " '_numpy_tester',\n",
       " '_umath_linalg',\n",
       " 'absolute_import',\n",
       " 'bench',\n",
       " 'cholesky',\n",
       " 'cond',\n",
       " 'det',\n",
       " 'division',\n",
       " 'eig',\n",
       " 'eigh',\n",
       " 'eigvals',\n",
       " 'eigvalsh',\n",
       " 'info',\n",
       " 'inv',\n",
       " 'lapack_lite',\n",
       " 'linalg',\n",
       " 'lstsq',\n",
       " 'matrix_power',\n",
       " 'matrix_rank',\n",
       " 'multi_dot',\n",
       " 'norm',\n",
       " 'pinv',\n",
       " 'print_function',\n",
       " 'qr',\n",
       " 'slogdet',\n",
       " 'solve',\n",
       " 'svd',\n",
       " 'tensorinv',\n",
       " 'tensorsolve',\n",
       " 'test']"
      ]
     },
     "execution_count": 20,
     "metadata": {},
     "output_type": "execute_result"
    }
   ],
   "source": [
    "# Lots more...\n",
    "dir(np.linalg)"
   ]
  },
  {
   "cell_type": "markdown",
   "metadata": {},
   "source": [
    "## Random Numbers"
   ]
  },
  {
   "cell_type": "code",
   "execution_count": 21,
   "metadata": {
    "collapsed": false
   },
   "outputs": [
    {
     "data": {
      "text/plain": [
       "['Lock',\n",
       " 'RandomState',\n",
       " '__RandomState_ctor',\n",
       " '__all__',\n",
       " '__builtins__',\n",
       " '__doc__',\n",
       " '__file__',\n",
       " '__name__',\n",
       " '__package__',\n",
       " '__path__',\n",
       " '__warningregistry__',\n",
       " '_numpy_tester',\n",
       " 'absolute_import',\n",
       " 'bench',\n",
       " 'beta',\n",
       " 'binomial',\n",
       " 'bytes',\n",
       " 'chisquare',\n",
       " 'choice',\n",
       " 'dirichlet',\n",
       " 'division',\n",
       " 'exponential',\n",
       " 'f',\n",
       " 'gamma',\n",
       " 'geometric',\n",
       " 'get_state',\n",
       " 'gumbel',\n",
       " 'hypergeometric',\n",
       " 'info',\n",
       " 'laplace',\n",
       " 'logistic',\n",
       " 'lognormal',\n",
       " 'logseries',\n",
       " 'mtrand',\n",
       " 'multinomial',\n",
       " 'multivariate_normal',\n",
       " 'negative_binomial',\n",
       " 'noncentral_chisquare',\n",
       " 'noncentral_f',\n",
       " 'normal',\n",
       " 'np',\n",
       " 'operator',\n",
       " 'pareto',\n",
       " 'permutation',\n",
       " 'poisson',\n",
       " 'power',\n",
       " 'print_function',\n",
       " 'rand',\n",
       " 'randint',\n",
       " 'randn',\n",
       " 'random',\n",
       " 'random_integers',\n",
       " 'random_sample',\n",
       " 'ranf',\n",
       " 'rayleigh',\n",
       " 'sample',\n",
       " 'seed',\n",
       " 'set_state',\n",
       " 'shuffle',\n",
       " 'standard_cauchy',\n",
       " 'standard_exponential',\n",
       " 'standard_gamma',\n",
       " 'standard_normal',\n",
       " 'standard_t',\n",
       " 'test',\n",
       " 'triangular',\n",
       " 'uniform',\n",
       " 'vonmises',\n",
       " 'wald',\n",
       " 'warnings',\n",
       " 'weibull',\n",
       " 'zipf']"
      ]
     },
     "execution_count": 21,
     "metadata": {},
     "output_type": "execute_result"
    }
   ],
   "source": [
    "# Random number generators\n",
    "dir(np.random)"
   ]
  },
  {
   "cell_type": "code",
   "execution_count": 22,
   "metadata": {
    "collapsed": false
   },
   "outputs": [
    {
     "data": {
      "text/plain": [
       "90"
      ]
     },
     "execution_count": 22,
     "metadata": {},
     "output_type": "execute_result"
    }
   ],
   "source": [
    "np.random.randint(100)  # Random integer in [0,100)"
   ]
  },
  {
   "cell_type": "code",
   "execution_count": 23,
   "metadata": {
    "collapsed": false
   },
   "outputs": [
    {
     "data": {
      "text/plain": [
       "0.8003067345543293"
      ]
     },
     "execution_count": 23,
     "metadata": {},
     "output_type": "execute_result"
    }
   ],
   "source": [
    "np.random.rand()  # Random number in [0,1)"
   ]
  },
  {
   "cell_type": "code",
   "execution_count": 24,
   "metadata": {
    "collapsed": false
   },
   "outputs": [
    {
     "data": {
      "text/plain": [
       "array([[ 0.94860147,  0.85865191,  0.66966172,  0.21484448],\n",
       "       [ 0.85274188,  0.25803227,  0.1152421 ,  0.32086492],\n",
       "       [ 0.0155601 ,  0.09910513,  0.00445218,  0.86639235]])"
      ]
     },
     "execution_count": 24,
     "metadata": {},
     "output_type": "execute_result"
    }
   ],
   "source": [
    "np.random.rand(3,4)  # Random 4x6 matrix, elements are uniformly sampled from [0,1)"
   ]
  },
  {
   "cell_type": "code",
   "execution_count": 25,
   "metadata": {
    "collapsed": false
   },
   "outputs": [
    {
     "name": "stdout",
     "output_type": "stream",
     "text": [
      "2.86871785368\n"
     ]
    }
   ],
   "source": [
    "# Generators for lots of distributions\n",
    "# See scipy.random.distributions for more advanced functions\n",
    "mu = 2.0\n",
    "sigma = 1.5\n",
    "print(np.random.normal(mu, sigma))"
   ]
  },
  {
   "cell_type": "code",
   "execution_count": 26,
   "metadata": {
    "collapsed": false
   },
   "outputs": [
    {
     "name": "stdout",
     "output_type": "stream",
     "text": [
      "[ 2.85178044  2.04221626  0.76141764  3.16136117  2.79420478  1.10653143\n",
      "  4.3756346   2.89039179  0.01928288  2.22678854]\n",
      "Mean: 2.04, Std Dev 1.53\n"
     ]
    }
   ],
   "source": [
    "# Generate lots of numbers and check statistics on them\n",
    "N = 1000\n",
    "nums = np.random.normal(mu, sigma, N)\n",
    "print(nums[:10])  # Print first 10 for debugging\n",
    "print('Mean: %.2f, Std Dev %.2f' % (np.mean(nums), np.std(nums)))"
   ]
  },
  {
   "cell_type": "markdown",
   "metadata": {},
   "source": [
    "# SciPy\n",
    "\n",
    "[SciPy](http://docs.scipy.org/doc/scipy/reference/) adds lots of operations common in scientific and engineering contexts.  It's a huge library with lots to explore.\n",
    "\n",
    "Many SciPy functions are wrappers around heavy-duty Fortran libraries that have stood the test of time (e.g., LAPACK, MINPACK, ...)\n",
    "\n",
    "_Note_: Many of the examples below are from the official SciPy tutorial"
   ]
  },
  {
   "cell_type": "markdown",
   "metadata": {},
   "source": [
    "### Numerical integration"
   ]
  },
  {
   "cell_type": "code",
   "execution_count": 27,
   "metadata": {
    "collapsed": true
   },
   "outputs": [],
   "source": [
    "from scipy import integrate"
   ]
  },
  {
   "cell_type": "markdown",
   "metadata": {},
   "source": [
    "Single integrals:\n",
    "$$\n",
    "\\int_0^1 3 x^2 = \\left[x^3\\right]^1_0 = 1\n",
    "$$"
   ]
  },
  {
   "cell_type": "code",
   "execution_count": 28,
   "metadata": {
    "collapsed": false
   },
   "outputs": [
    {
     "name": "stdout",
     "output_type": "stream",
     "text": [
      "Answer: 1.000000 +/- 1.11022e-14\n"
     ]
    }
   ],
   "source": [
    "answer, err = integrate.quad(lambda x: 3 * x**2, 0, 1)  # [x**3]^1_0 == 1\n",
    "print('Answer: %f +/- %g' % (answer, err))"
   ]
  },
  {
   "cell_type": "markdown",
   "metadata": {},
   "source": [
    "Double integrals:\n",
    "$$\n",
    "\\int_0^\\infty dt\\, \\int_1^\\infty dx\\, \\frac{e^{-x t}}{t^n}\n",
    "$$"
   ]
  },
  {
   "cell_type": "code",
   "execution_count": 29,
   "metadata": {
    "collapsed": false
   },
   "outputs": [
    {
     "data": {
      "text/plain": [
       "(0.4999999999985751, 1.3894083651858995e-08)"
      ]
     },
     "execution_count": 29,
     "metadata": {},
     "output_type": "execute_result"
    }
   ],
   "source": [
    "from scipy import Inf, exp\n",
    "n = 2\n",
    "integrate.dblquad(lambda t, x: exp(-x*t)/t**n, 0, Inf, lambda t: 1, lambda t: Inf)"
   ]
  },
  {
   "cell_type": "markdown",
   "metadata": {},
   "source": [
    "## Optimization"
   ]
  },
  {
   "cell_type": "markdown",
   "metadata": {},
   "source": [
    "These examples barely scratch the surface...\n",
    "\n",
    "A complicated function of $N$ variables with a minimum at $x_i = 1$:\n",
    "$$\n",
    "f(\\mathbf{x}) = \\sum_{i=1}^{N-1} 100 (x_i - x_{i-1}^2)^2 + (1 - x_{i-1})^2\n",
    "$$"
   ]
  },
  {
   "cell_type": "code",
   "execution_count": 30,
   "metadata": {
    "collapsed": true
   },
   "outputs": [],
   "source": [
    "def rosen(x):\n",
    "    \"\"\"The Rosenbrock function\"\"\"\n",
    "    return sum(100.0*(x[1:]-x[:-1]**2.0)**2.0 + (1-x[:-1])**2.0)"
   ]
  },
  {
   "cell_type": "code",
   "execution_count": 31,
   "metadata": {
    "collapsed": false
   },
   "outputs": [
    {
     "name": "stdout",
     "output_type": "stream",
     "text": [
      "Optimization terminated successfully.\n",
      "         Current function value: 0.000000\n",
      "         Iterations: 339\n",
      "         Function evaluations: 571\n",
      " final_simplex: (array([[ 1.        ,  1.        ,  1.        ,  1.        ,  1.        ],\n",
      "       [ 1.        ,  1.        ,  1.        ,  1.        ,  1.        ],\n",
      "       [ 1.        ,  1.        ,  1.        ,  1.00000001,  1.00000001],\n",
      "       [ 1.        ,  1.        ,  1.        ,  1.        ,  1.        ],\n",
      "       [ 1.        ,  1.        ,  1.        ,  1.        ,  1.        ],\n",
      "       [ 1.        ,  1.        ,  1.        ,  1.        ,  0.99999999]]), array([  4.86115343e-17,   7.65182843e-17,   8.11395684e-17,\n",
      "         8.63263255e-17,   8.64080682e-17,   2.17927418e-16]))\n",
      "           fun: 4.8611534334221152e-17\n",
      "       message: 'Optimization terminated successfully.'\n",
      "          nfev: 571\n",
      "           nit: 339\n",
      "        status: 0\n",
      "       success: True\n",
      "             x: array([ 1.,  1.,  1.,  1.,  1.])\n"
     ]
    }
   ],
   "source": [
    "# Without derivatives, using Nelder-Mead algorithm\n",
    "from scipy.optimize import minimize\n",
    "x0 = np.array([1.3, 0.7, 0.8, 1.9, 1.2])\n",
    "res = minimize(rosen, x0, method='nelder-mead',\n",
    "               options={'xtol': 1e-8, 'disp': True})\n",
    "print(res)"
   ]
  },
  {
   "cell_type": "code",
   "execution_count": 32,
   "metadata": {
    "collapsed": false
   },
   "outputs": [
    {
     "name": "stdout",
     "output_type": "stream",
     "text": [
      "Optimization terminated successfully.\n",
      "         Current function value: 0.000000\n",
      "         Iterations: 25\n",
      "         Function evaluations: 30\n",
      "         Gradient evaluations: 30\n",
      "      fun: 4.013087999334212e-13\n",
      " hess_inv: array([[ 0.00758796,  0.01243893,  0.02344025,  0.04614953,  0.09222281],\n",
      "       [ 0.01243893,  0.02481725,  0.04712952,  0.09298607,  0.18569385],\n",
      "       [ 0.02344025,  0.04712952,  0.09456412,  0.18674836,  0.37282072],\n",
      "       [ 0.04614953,  0.09298607,  0.18674836,  0.37383212,  0.74621435],\n",
      "       [ 0.09222281,  0.18569385,  0.37282072,  0.74621435,  1.49444705]])\n",
      "      jac: array([ -5.68982937e-06,  -2.73296557e-06,  -2.54520590e-06,\n",
      "        -7.73460783e-06,   5.78142703e-06])\n",
      "  message: 'Optimization terminated successfully.'\n",
      "     nfev: 30\n",
      "      nit: 25\n",
      "     njev: 30\n",
      "   status: 0\n",
      "  success: True\n",
      "        x: array([ 1.00000004,  1.0000001 ,  1.00000021,  1.00000044,  1.00000092])\n"
     ]
    }
   ],
   "source": [
    "# With derivatives, using BGFS\n",
    "def rosen_der(x):\n",
    "    xm = x[1:-1]\n",
    "    xm_m1 = x[:-2]\n",
    "    xm_p1 = x[2:]\n",
    "    der = np.zeros_like(x)\n",
    "    der[1:-1] = 200*(xm-xm_m1**2) - 400*(xm_p1 - xm**2)*xm - 2*(1-xm)\n",
    "    der[0] = -400*x[0]*(x[1]-x[0]**2) - 2*(1-x[0])\n",
    "    der[-1] = 200*(x[-1]-x[-2]**2)\n",
    "    return der\n",
    "\n",
    "x0 = np.array([1.3, 0.7, 0.8, 1.9, 1.2])\n",
    "res = minimize(rosen, x0, method='BFGS', jac=rosen_der,\n",
    "               options={'disp': True})\n",
    "print(res)"
   ]
  },
  {
   "cell_type": "markdown",
   "metadata": {},
   "source": [
    "## Root finding"
   ]
  },
  {
   "cell_type": "markdown",
   "metadata": {},
   "source": [
    "Solve\n",
    "$$\n",
    "x + 2 \\cos(x) = 0.\n",
    "$$"
   ]
  },
  {
   "cell_type": "code",
   "execution_count": 33,
   "metadata": {
    "collapsed": false
   },
   "outputs": [
    {
     "name": "stdout",
     "output_type": "stream",
     "text": [
      "    fjac: array([[-1.]])\n",
      "     fun: array([ -6.66133815e-16])\n",
      " message: 'The solution converged.'\n",
      "    nfev: 10\n",
      "     qtf: array([ -1.20746968e-09])\n",
      "       r: array([-2.71445911])\n",
      "  status: 1\n",
      " success: True\n",
      "       x: array([-1.02986653])\n"
     ]
    }
   ],
   "source": [
    "from scipy.optimize import root\n",
    "def func(x):\n",
    "    return x + 2 * np.cos(x)\n",
    "sol = root(func, 0.3)         # x_0 = 0.3 is our starting guess\n",
    "print(sol)"
   ]
  },
  {
   "cell_type": "markdown",
   "metadata": {},
   "source": [
    "Solve\n",
    "\\begin{eqnarray}\n",
    "x_0 \\cdot cos(x_1)&=4,\\\\\n",
    "x_0 x_1 - x_1 &=5\n",
    "\\end{eqnarray}"
   ]
  },
  {
   "cell_type": "code",
   "execution_count": 34,
   "metadata": {
    "collapsed": false
   },
   "outputs": [
    {
     "name": "stdout",
     "output_type": "stream",
     "text": [
      "   cov_x: array([[ 0.87470958, -0.02852752],\n",
      "       [-0.02852752,  0.01859874]])\n",
      "    fjac: array([[ 7.52318843, -0.73161761],\n",
      "       [ 0.24535902, -1.06922242]])\n",
      "     fun: array([ 0.,  0.])\n",
      "    ipvt: array([2, 1], dtype=int32)\n",
      " message: 'The relative error between two consecutive iterates is at most 0.000000'\n",
      "    nfev: 8\n",
      "    njev: 7\n",
      "     qtf: array([  9.53474074e-13,   1.20388645e-13])\n",
      "  status: 2\n",
      " success: True\n",
      "       x: array([ 6.50409711,  0.90841421])\n"
     ]
    }
   ],
   "source": [
    "def func2(x):\n",
    "    f = [x[0] * np.cos(x[1]) - 4,  # == 0\n",
    "         x[1]*x[0] - x[1]    - 5]  # == 0\n",
    "    \n",
    "    # Provide Jacobian to use better solver than above\n",
    "    df = np.array([[np.cos(x[1]), -x[0] * np.sin(x[1])],\n",
    "                   [x[1],         x[0] - 1              ]])\n",
    "    \n",
    "    return f, df\n",
    "\n",
    "sol = root(func2, [1, 1], jac=True, method='lm')   # Use Levenberg-Marquardt\n",
    "print(sol)"
   ]
  },
  {
   "cell_type": "markdown",
   "metadata": {},
   "source": [
    "## Statistics\n",
    "\n",
    "**Lots** of predefined distributions, with generators, pdfs, cdfs, inverse cdfs, etc."
   ]
  },
  {
   "cell_type": "code",
   "execution_count": 35,
   "metadata": {
    "collapsed": true
   },
   "outputs": [],
   "source": [
    "from scipy import stats"
   ]
  },
  {
   "cell_type": "code",
   "execution_count": 36,
   "metadata": {
    "collapsed": false
   },
   "outputs": [
    {
     "data": {
      "text/plain": [
       "'Tester, _binned_statistic, _constants, _continuous_distns, _discrete_distns, _distn_infrastructure, _distr_params, _multivariate, _stats, _stats_mstats_common, _tukeylambda_stats, absolute_import, alpha, anderson, anderson_ksamp, anglit, ansari, arcsine, bartlett, bayes_mvs, bernoulli, beta, betai, betaprime, binned_statistic, binned_statistic_2d, binned_statistic_dd, binom, binom_test, boltzmann, boxcox, boxcox_llf, boxcox_normmax, boxcox_normplot, bradford, burr, burr12, cauchy, chi, chi2, chi2_contingency, chisqprob, chisquare, circmean, circstd, circvar, combine_pvalues, contingency, cosine, cumfreq, describe, dgamma, dirichlet, distributions, division, dlaplace, dweibull, entropy, erlang, expon, exponnorm, exponpow, exponweib, f, f_oneway, f_value, f_value_multivariate, f_value_wilks_lambda, fastsort, fatiguelife, find_repeats, fisher_exact, fisk, fligner, foldcauchy, foldnorm, frechet_l, frechet_r, friedmanchisquare, gamma, gausshyper, gaussian_kde, genexpon, genextreme, gengamma, genhalflogistic, genlogistic, gennorm, genpareto, geom, gilbrat, gmean, gompertz, gumbel_l, gumbel_r, halfcauchy, halfgennorm, halflogistic, halfnorm, histogram, histogram2, hmean, hypergeom, hypsecant, invgamma, invgauss, invweibull, invwishart, iqr, itemfreq, jarque_bera, johnsonsb, johnsonsu, kappa3, kappa4, kde, kendalltau, kruskal, ks_2samp, ksone, kstat, kstatvar, kstest, kstwobign, kurtosis, kurtosistest, laplace, levene, levy, levy_l, levy_stable, linregress, loggamma, logistic, loglaplace, lognorm, logser, lomax, mannwhitneyu, matrix_normal, maxwell, median_test, mielke, mode, moment, mood, morestats, mstats, mstats_basic, mstats_extras, multivariate_normal, mvn, mvsdist, nakagami, nbinom, ncf, nct, ncx2, norm, normaltest, obrientransform, ortho_group, pareto, pdf_fromgamma, pearson3, pearsonr, percentileofscore, planck, pointbiserialr, poisson, power_divergence, powerlaw, powerlognorm, powernorm, ppcc_max, ppcc_plot, print_function, probplot, randint, random_correlation, rankdata, ranksums, rayleigh, rdist, recipinvgauss, reciprocal, relfreq, rice, rv_continuous, rv_discrete, s, scoreatpercentile, sem, semicircular, shapiro, sigmaclip, signaltonoise, skellam, skew, skewnorm, skewtest, spearmanr, special_ortho_group, square_of_sums, ss, statlib, stats, t, test, theilslopes, threshold, tiecorrect, tmax, tmean, tmin, trapz, triang, trim1, trim_mean, trimboth, truncexpon, truncnorm, tsem, tstd, ttest_1samp, ttest_ind, ttest_ind_from_stats, ttest_rel, tukeylambda, tvar, uniform, variation, vonmises, vonmises_line, wald, weibull_max, weibull_min, wilcoxon, wishart, wrapcauchy, zipf, zmap, zscore'"
      ]
     },
     "execution_count": 36,
     "metadata": {},
     "output_type": "execute_result"
    }
   ],
   "source": [
    "', '.join(_ for _ in dir(stats) if not _.startswith('__'))"
   ]
  },
  {
   "cell_type": "code",
   "execution_count": 37,
   "metadata": {
    "collapsed": true
   },
   "outputs": [],
   "source": [
    "mu = 1.0\n",
    "sigma = 2.0\n",
    "N = stats.norm(loc=mu, scale=sigma)"
   ]
  },
  {
   "cell_type": "code",
   "execution_count": 38,
   "metadata": {
    "collapsed": false
   },
   "outputs": [
    {
     "data": {
      "text/plain": [
       "['__class__',\n",
       " '__delattr__',\n",
       " '__dict__',\n",
       " '__doc__',\n",
       " '__format__',\n",
       " '__getattribute__',\n",
       " '__hash__',\n",
       " '__init__',\n",
       " '__module__',\n",
       " '__new__',\n",
       " '__reduce__',\n",
       " '__reduce_ex__',\n",
       " '__repr__',\n",
       " '__setattr__',\n",
       " '__sizeof__',\n",
       " '__str__',\n",
       " '__subclasshook__',\n",
       " '__weakref__',\n",
       " 'a',\n",
       " 'args',\n",
       " 'b',\n",
       " 'cdf',\n",
       " 'dist',\n",
       " 'entropy',\n",
       " 'expect',\n",
       " 'interval',\n",
       " 'isf',\n",
       " 'kwds',\n",
       " 'logcdf',\n",
       " 'logpdf',\n",
       " 'logpmf',\n",
       " 'logsf',\n",
       " 'mean',\n",
       " 'median',\n",
       " 'moment',\n",
       " 'pdf',\n",
       " 'pmf',\n",
       " 'ppf',\n",
       " 'random_state',\n",
       " 'rvs',\n",
       " 'sf',\n",
       " 'stats',\n",
       " 'std',\n",
       " 'var']"
      ]
     },
     "execution_count": 38,
     "metadata": {},
     "output_type": "execute_result"
    }
   ],
   "source": [
    "dir(N)"
   ]
  },
  {
   "cell_type": "code",
   "execution_count": 39,
   "metadata": {
    "collapsed": false
   },
   "outputs": [
    {
     "name": "stdout",
     "output_type": "stream",
     "text": [
      "(1.0, 1.0, 2.0)\n"
     ]
    }
   ],
   "source": [
    "print((N.mean(), N.median(), N.std()))"
   ]
  },
  {
   "cell_type": "code",
   "execution_count": 40,
   "metadata": {
    "collapsed": false
   },
   "outputs": [
    {
     "name": "stdout",
     "output_type": "stream",
     "text": [
      "0.0913245426945\n"
     ]
    }
   ],
   "source": [
    "print(N.pdf(3.5))  # P(N = 3.5) / dx"
   ]
  },
  {
   "cell_type": "code",
   "execution_count": 41,
   "metadata": {
    "collapsed": false
   },
   "outputs": [
    {
     "name": "stdout",
     "output_type": "stream",
     "text": [
      "0.894350226333\n"
     ]
    }
   ],
   "source": [
    "print(N.cdf(3.5))  # P(N < 3.5)"
   ]
  },
  {
   "cell_type": "code",
   "execution_count": 42,
   "metadata": {
    "collapsed": false
   },
   "outputs": [
    {
     "name": "stdout",
     "output_type": "stream",
     "text": [
      "4.2897072539\n"
     ]
    }
   ],
   "source": [
    "print(N.ppf(0.95)) # n such that P(N < n) = 95%"
   ]
  },
  {
   "cell_type": "code",
   "execution_count": 43,
   "metadata": {
    "collapsed": false
   },
   "outputs": [
    {
     "name": "stdout",
     "output_type": "stream",
     "text": [
      "[ 0.29087237  1.94933797  1.47364609  3.52373997 -0.62781274]\n"
     ]
    }
   ],
   "source": [
    "# sample a few random variates\n",
    "print(N.rvs(5))"
   ]
  },
  {
   "cell_type": "markdown",
   "metadata": {},
   "source": [
    "Again, this just scratches the surface...  Just for kicks, here's a Gaussian Kernel Density Estimator for a bunch of random in 2D:"
   ]
  },
  {
   "cell_type": "code",
   "execution_count": 44,
   "metadata": {
    "collapsed": true
   },
   "outputs": [],
   "source": [
    "def measure(n):\n",
    "    \"\"\"Measurement model, return two coupled measurements.\"\"\"\n",
    "    m1 = np.random.normal(size=n)\n",
    "    m2 = np.random.normal(scale=0.5, size=n)\n",
    "    return m1+m2, m1-m2"
   ]
  },
  {
   "cell_type": "code",
   "execution_count": 45,
   "metadata": {
    "collapsed": true
   },
   "outputs": [],
   "source": [
    "m1, m2 = measure(2000)            # Sample 2000 points from the above 2D Gaussian\n",
    "xmin, xmax = m1.min(), m1.max()\n",
    "ymin, ymax = m2.min(), m2.max()"
   ]
  },
  {
   "cell_type": "code",
   "execution_count": 46,
   "metadata": {
    "collapsed": true
   },
   "outputs": [],
   "source": [
    "X, Y = np.mgrid[xmin:xmax:100j, ymin:ymax:100j]\n",
    "positions = np.vstack([X.ravel(), Y.ravel()])\n",
    "values = np.vstack([m1, m2])\n",
    "kernel = stats.gaussian_kde(values)\n",
    "Z = np.reshape(kernel.evaluate(positions).T, X.shape)"
   ]
  },
  {
   "cell_type": "code",
   "execution_count": 47,
   "metadata": {
    "collapsed": false
   },
   "outputs": [
    {
     "data": {
      "image/png": "[encoded data removed]",
      "text/plain": [
       "<matplotlib.figure.Figure at 0x10e24f1d0>"
      ]
     },
     "metadata": {},
     "output_type": "display_data"
    }
   ],
   "source": [
    "# This is Matplotlib, we'll get there...\n",
    "import matplotlib.pyplot as plt\n",
    "%matplotlib inline\n",
    "fig = plt.figure(figsize=(8, 6))\n",
    "ax = fig.add_subplot(111)\n",
    "ax.imshow(np.rot90(Z), cmap=plt.cm.gist_earth_r, extent=[xmin, xmax, ymin, ymax])\n",
    "ax.plot(m1, m2, 'k.', markersize=2)\n",
    "ax.set_xlim([xmin, xmax])\n",
    "ax.set_ylim([ymin, ymax])\n",
    "plt.show()"
   ]
  }
 ],
 "metadata": {
  "kernelspec": {
   "display_name": "Python 2",
   "language": "python",
   "name": "python2"
  },
  "language_info": {
   "codemirror_mode": {
    "name": "ipython",
    "version": 2
   },
   "file_extension": ".py",
   "mimetype": "text/x-python",
   "name": "python",
   "nbconvert_exporter": "python",
   "pygments_lexer": "ipython2",
   "version": "2.7.11"
  }
 },
 "nbformat": 4,
 "nbformat_minor": 0
}
