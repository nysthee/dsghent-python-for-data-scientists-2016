{
 "cells": [
  {
   "cell_type": "markdown",
   "metadata": {},
   "source": [
    "# Whirlwind Tour of Python\n",
    "\n",
    "Based closely on tutorial chapter of David Beazley's *Python: Essential Reference*.  The single best Python book out there (if you want to know how everything works under the covers!).  Go [buy it now](http://www.amazon.com/Python-Essential-Reference-David-Beazley/dp/0672329786/ref=sr_1_1?s=books&ie=UTF8&qid=1442476031&sr=1-1&keywords=python+essential+reference)!\n",
    "\n",
    "**Caveat**: 4th edition (2009) mostly covers Python 2.  *Still* eagerly awaiting updated 5th edition.\n",
    "\n",
    "![Python Essential Reference book cover](python_essential_reference_cover.jpg)"
   ]
  },
  {
   "cell_type": "markdown",
   "metadata": {},
   "source": [
    "## Various ways of running Python:\n",
    "\n",
    "* Command line REPL: `python`\n",
    "* Scripts in files: `python myscript.py`\n",
    "* IPython command line REPL: `ipython`\n",
    "* IPython Notebook (this): `ipython notebook`\n",
    "\n",
    "For more advanced development:\n",
    "\n",
    "* [PyCharm IDE](https://www.jetbrains.com/pycharm/)"
   ]
  },
  {
   "cell_type": "markdown",
   "metadata": {},
   "source": [
    "## First steps"
   ]
  },
  {
   "cell_type": "markdown",
   "metadata": {},
   "source": [
    "In IPython Notebook, select a cell and press Shift-Enter to evaluate"
   ]
  },
  {
   "cell_type": "code",
   "execution_count": 1,
   "metadata": {
    "collapsed": false
   },
   "outputs": [
    {
     "name": "stdout",
     "output_type": "stream",
     "text": [
      "Hello world\n"
     ]
    }
   ],
   "source": [
    "print(\"Hello world\")"
   ]
  },
  {
   "cell_type": "markdown",
   "metadata": {},
   "source": [
    "Basic math works as expected.  The token `_` refers to the output of the last statement / cell."
   ]
  },
  {
   "cell_type": "code",
   "execution_count": 2,
   "metadata": {
    "collapsed": false
   },
   "outputs": [
    {
     "data": {
      "text/plain": [
       "10657.12"
      ]
     },
     "execution_count": 2,
     "metadata": {},
     "output_type": "execute_result"
    }
   ],
   "source": [
    "6000 + 4523.0 + 134.12"
   ]
  },
  {
   "cell_type": "code",
   "execution_count": 3,
   "metadata": {
    "collapsed": false
   },
   "outputs": [
    {
     "data": {
      "text/plain": [
       "18849.440000000002"
      ]
     },
     "execution_count": 3,
     "metadata": {},
     "output_type": "execute_result"
    }
   ],
   "source": [
    "_ + 8192.32"
   ]
  },
  {
   "cell_type": "markdown",
   "metadata": {},
   "source": [
    "Code in a script is interpreted line by line (_run at `hello.py` example by typing `python2 hello.py` at command line_)"
   ]
  },
  {
   "cell_type": "markdown",
   "metadata": {},
   "source": [
    "## Variables and Arithmetic expressions\n",
    "\n",
    "Python is a dynamically typed language.  Variables don't need to be declared or typed.  *Variable* type can change throughout program execution.  *Values* not automatically coerced."
   ]
  },
  {
   "cell_type": "code",
   "execution_count": 4,
   "metadata": {
    "collapsed": false
   },
   "outputs": [
    {
     "name": "stdout",
     "output_type": "stream",
     "text": [
      "(1, 1050.0)\n",
      "(2, 1102.5)\n",
      "(3, 1157.625)\n",
      "(4, 1215.5062500000001)\n",
      "(5, 1276.2815625000003)\n"
     ]
    }
   ],
   "source": [
    "# Simple Compound-Interest Calculation\n",
    "\n",
    "principal = 1000       # Initial amount\n",
    "rate = 0.05            # Interest rate\n",
    "numyears = 5           # Number of years\n",
    "year = 1\n",
    "while year <= numyears:\n",
    "    principal = principal * (1+ rate)\n",
    "    print(year, principal)\n",
    "    year += 1"
   ]
  },
  {
   "cell_type": "markdown",
   "metadata": {},
   "source": [
    "**Note:** Indentation and spacing matters!  Newlines mark end of statements.  Indentation marks beginning and end of code blocks.  You either love this or you hate this.  In my opinion, enhances clarity by removing lots of unnecessary punctuation."
   ]
  },
  {
   "cell_type": "markdown",
   "metadata": {},
   "source": [
    "### String formatting, printf-style"
   ]
  },
  {
   "cell_type": "code",
   "execution_count": 5,
   "metadata": {
    "collapsed": false
   },
   "outputs": [
    {
     "name": "stdout",
     "output_type": "stream",
     "text": [
      "  1 1050.00\n",
      "  2 1102.50\n",
      "  3 1157.62\n",
      "  4 1215.51\n",
      "  5 1276.28\n"
     ]
    }
   ],
   "source": [
    "# Simple Compound-Interest Calculation\n",
    "\n",
    "principal = 1000       # Initial amount\n",
    "rate = 0.05            # Interest rate\n",
    "numyears = 5           # Number of years\n",
    "year = 1\n",
    "while year <= numyears:\n",
    "    principal = principal * (1+ rate)\n",
    "    print(\"%3d %0.2f\" % (year, principal))  #  `%` is the string formatting operation\n",
    "                                            # There are alternatives, but this is most common\n",
    "    year += 1"
   ]
  },
  {
   "cell_type": "markdown",
   "metadata": {},
   "source": [
    "## Conditionals"
   ]
  },
  {
   "cell_type": "code",
   "execution_count": 6,
   "metadata": {
    "collapsed": false
   },
   "outputs": [
    {
     "name": "stdout",
     "output_type": "stream",
     "text": [
      "Winston is alive\n"
     ]
    }
   ],
   "source": [
    "if 2 + 2 == 5:\n",
    "    print(\"Big Brother is watching you\")\n",
    "else:\n",
    "    print(\"Winston is alive\")"
   ]
  },
  {
   "cell_type": "markdown",
   "metadata": {},
   "source": [
    "Use `pass` for empty blocks (equivalent to `{}` in `C` and Java).  Some people use `pass` as a kind of `endif` or `endfor`."
   ]
  },
  {
   "cell_type": "code",
   "execution_count": 7,
   "metadata": {
    "collapsed": true
   },
   "outputs": [],
   "source": [
    "if 2 + 2 == 5:\n",
    "    print(\"O'Brian is right\")\n",
    "else:\n",
    "    pass    # Do nothing if 2 + 2 != 5\n",
    "pass  # Harmless way of marking end of if statement"
   ]
  },
  {
   "cell_type": "markdown",
   "metadata": {},
   "source": [
    "### Boolean expressions"
   ]
  },
  {
   "cell_type": "code",
   "execution_count": 8,
   "metadata": {
    "collapsed": false
   },
   "outputs": [
    {
     "name": "stdout",
     "output_type": "stream",
     "text": [
      "I'll take it!\n"
     ]
    }
   ],
   "source": [
    "age = 10\n",
    "product = \"game\"\n",
    "type = \"boom boom bang bang\"\n",
    "if (product == \"game\" and type == \"boom boom bang bang\"\n",
    "                               # Newline doesn't end statement inside parentheses\n",
    "    and not (4 < age < 8)):    # Python support x < y < z in the mathematical sense\n",
    "    print(\"I'll take it!\")"
   ]
  },
  {
   "cell_type": "code",
   "execution_count": 9,
   "metadata": {
    "collapsed": false
   },
   "outputs": [
    {
     "data": {
      "text/plain": [
       "'image/png'"
      ]
     },
     "execution_count": 9,
     "metadata": {},
     "output_type": "execute_result"
    }
   ],
   "source": [
    "# No switch / case.  Chain if statements using `elif`\n",
    "\n",
    "suffix = \".png\"\n",
    "\n",
    "if suffix == \".htm\":\n",
    "    content = \"text/html\"\n",
    "elif suffix == \".jpg\":\n",
    "    content = \"image/jpeg\"\n",
    "elif suffix == \".png\":\n",
    "    content = \"image/png\"\n",
    "else:\n",
    "    raise RuntimeError(\"unknown content type\")   # Exception syntax\n",
    "\n",
    "content"
   ]
  },
  {
   "cell_type": "code",
   "execution_count": 10,
   "metadata": {
    "collapsed": false
   },
   "outputs": [
    {
     "data": {
      "text/plain": [
       "True"
      ]
     },
     "execution_count": 10,
     "metadata": {},
     "output_type": "execute_result"
    }
   ],
   "source": [
    "# Use `True` and `False` for Boolean literals\n",
    "\n",
    "s = 'This message is not spam.  Would you like some Viagra?'\n",
    "if 'spam' in s:\n",
    "    has_spam = True\n",
    "else:\n",
    "    has_spam = False\n",
    "\n",
    "has_spam"
   ]
  },
  {
   "cell_type": "code",
   "execution_count": 11,
   "metadata": {
    "collapsed": false
   },
   "outputs": [
    {
     "data": {
      "text/plain": [
       "True"
      ]
     },
     "execution_count": 11,
     "metadata": {},
     "output_type": "execute_result"
    }
   ],
   "source": [
    "# All relational operators evaluate to Booleans:\n",
    "has_spam = 'spam' in s\n",
    "\n",
    "has_spam"
   ]
  },
  {
   "cell_type": "markdown",
   "metadata": {},
   "source": [
    "## File Input and Output"
   ]
  },
  {
   "cell_type": "code",
   "execution_count": 12,
   "metadata": {
    "collapsed": false
   },
   "outputs": [
    {
     "name": "stdout",
     "output_type": "stream",
     "text": [
      "Line 1 of foo.txt\n",
      "Line 2 of foo.txt\n",
      "Line 3 of foo.txt\n"
     ]
    }
   ],
   "source": [
    "# Long way to read a file line by line\n",
    "\n",
    "f = open(\"foo.txt\")     # Returns a file object\n",
    "line = f.readline()     # Invokes readline() method on file\n",
    "while line:\n",
    "    print(line.strip()) # .strip() removes leading & trailing whitespace\n",
    "    line = f.readline()\n",
    "f.close()"
   ]
  },
  {
   "cell_type": "markdown",
   "metadata": {},
   "source": [
    "In Python, you can **iterate** over many kinds of objects.  Iterating over a file object gives you one line at a time."
   ]
  },
  {
   "cell_type": "code",
   "execution_count": 13,
   "metadata": {
    "collapsed": false
   },
   "outputs": [
    {
     "name": "stdout",
     "output_type": "stream",
     "text": [
      "Line 1 of foo.txt\n",
      "Line 2 of foo.txt\n",
      "Line 3 of foo.txt\n"
     ]
    }
   ],
   "source": [
    "# Idiomatic way of reading a file line by line\n",
    "import sys                    # Import `sys` module to gain access to `stdout` file handle\n",
    "for line in open(\"foo.txt\"):  # Advanced: really, you'd use a context wrapper to close the files\n",
    "    sys.stdout.write(line)"
   ]
  },
  {
   "cell_type": "code",
   "execution_count": 14,
   "metadata": {
    "collapsed": true
   },
   "outputs": [],
   "source": [
    "# Output to a file\n",
    "\n",
    "f = open(\"out.txt\", \"w\")\n",
    "\n",
    "principal = 1000       # Initial amount\n",
    "rate = 0.05            # Interest rate\n",
    "numyears = 5           # Number of years\n",
    "year = 1\n",
    "while year <= numyears:\n",
    "    principal = principal * (1+ rate)\n",
    "    f.write(\"%3d %0.2f\\n\" % (year, principal))  # must include newline explicitly\n",
    "    year += 1\n",
    "    \n",
    "f.close()"
   ]
  },
  {
   "cell_type": "code",
   "execution_count": 15,
   "metadata": {
    "collapsed": false
   },
   "outputs": [
    {
     "name": "stdout",
     "output_type": "stream",
     "text": [
      "1 1050.00\n",
      "2 1102.50\n",
      "3 1157.62\n",
      "4 1215.51\n",
      "5 1276.28\n"
     ]
    }
   ],
   "source": [
    "for line in open(\"out.txt\"):\n",
    "    print(line.strip())"
   ]
  },
  {
   "cell_type": "markdown",
   "metadata": {},
   "source": [
    "## Strings"
   ]
  },
  {
   "cell_type": "markdown",
   "metadata": {},
   "source": [
    "Can use single (`'`), double (`\"`) or triple (`\"\"\"`) quotes:"
   ]
  },
  {
   "cell_type": "code",
   "execution_count": 16,
   "metadata": {
    "collapsed": true
   },
   "outputs": [],
   "source": [
    "a = \"Hello World from Patrick's machine\"\n",
    "b = 'Python is \"groovy\"'\n",
    "c = \"\"\"Computer says 'No'\"\"\""
   ]
  },
  {
   "cell_type": "code",
   "execution_count": 17,
   "metadata": {
    "collapsed": false
   },
   "outputs": [
    {
     "data": {
      "text/plain": [
       "\"Hello World from Patrick's machine\""
      ]
     },
     "execution_count": 17,
     "metadata": {},
     "output_type": "execute_result"
    }
   ],
   "source": [
    "a"
   ]
  },
  {
   "cell_type": "code",
   "execution_count": 18,
   "metadata": {
    "collapsed": false
   },
   "outputs": [
    {
     "data": {
      "text/plain": [
       "'Python is \"groovy\"'"
      ]
     },
     "execution_count": 18,
     "metadata": {},
     "output_type": "execute_result"
    }
   ],
   "source": [
    "b"
   ]
  },
  {
   "cell_type": "code",
   "execution_count": 19,
   "metadata": {
    "collapsed": false
   },
   "outputs": [
    {
     "data": {
      "text/plain": [
       "\"Computer says 'No'\""
      ]
     },
     "execution_count": 19,
     "metadata": {},
     "output_type": "execute_result"
    }
   ],
   "source": [
    "c"
   ]
  },
  {
   "cell_type": "code",
   "execution_count": 20,
   "metadata": {
    "collapsed": false
   },
   "outputs": [
    {
     "name": "stdout",
     "output_type": "stream",
     "text": [
      "Content-type: text/html\n",
      "\n",
      "<h1> Hello World </h1>\n",
      "Click <a href=\"http://ww.python.org\">here</a>\n",
      "\n"
     ]
    }
   ],
   "source": [
    "# Triple-quoted strings can span multiple lines\n",
    "print(\"\"\"Content-type: text/html\n",
    "\n",
    "<h1> Hello World </h1>\n",
    "Click <a href=\"http://ww.python.org\">here</a>\n",
    "\"\"\")"
   ]
  },
  {
   "cell_type": "markdown",
   "metadata": {},
   "source": [
    "Strings are one kind of Python *sequence*.  Can use indexing operators to extract characters and substrings:"
   ]
  },
  {
   "cell_type": "code",
   "execution_count": 21,
   "metadata": {
    "collapsed": false
   },
   "outputs": [
    {
     "data": {
      "text/plain": [
       "'o'"
      ]
     },
     "execution_count": 21,
     "metadata": {},
     "output_type": "execute_result"
    }
   ],
   "source": [
    "a = \"Hello world\"\n",
    "a[4]    # 0-based"
   ]
  },
  {
   "cell_type": "code",
   "execution_count": 22,
   "metadata": {
    "collapsed": false
   },
   "outputs": [
    {
     "data": {
      "text/plain": [
       "'lo wo'"
      ]
     },
     "execution_count": 22,
     "metadata": {},
     "output_type": "execute_result"
    }
   ],
   "source": [
    "# Substring: a[start:end] includes characters start <= i < end\n",
    "# This is a general form of *slicing*\n",
    "a[3:8]"
   ]
  },
  {
   "cell_type": "code",
   "execution_count": 23,
   "metadata": {
    "collapsed": false
   },
   "outputs": [
    {
     "name": "stdout",
     "output_type": "stream",
     "text": [
      "Hello\n",
      "world\n",
      "('He', 'll', 'o world')\n"
     ]
    }
   ],
   "source": [
    "# Can omit start/end to get default: start of string and end of string, respectively\n",
    "print(a[:5])  # First five characters\n",
    "print(a[6:])\n",
    "\n",
    "print(a[:2], a[2:4], a[4:])   # Consecutive slices"
   ]
  },
  {
   "cell_type": "code",
   "execution_count": 24,
   "metadata": {
    "collapsed": false
   },
   "outputs": [
    {
     "data": {
      "text/plain": [
       "'Hello worldThis is a test'"
      ]
     },
     "execution_count": 24,
     "metadata": {},
     "output_type": "execute_result"
    }
   ],
   "source": [
    "# Concatenation is +\n",
    "a + \"This is a test\""
   ]
  },
  {
   "cell_type": "markdown",
   "metadata": {},
   "source": [
    "Strings are strings are strings; if you want to interpret them as numbers, must cast explicitly"
   ]
  },
  {
   "cell_type": "code",
   "execution_count": 25,
   "metadata": {
    "collapsed": false
   },
   "outputs": [
    {
     "data": {
      "text/plain": [
       "'3742'"
      ]
     },
     "execution_count": 25,
     "metadata": {},
     "output_type": "execute_result"
    }
   ],
   "source": [
    "x = \"37\"\n",
    "y = \"42\"\n",
    "x + y"
   ]
  },
  {
   "cell_type": "code",
   "execution_count": 26,
   "metadata": {
    "collapsed": false
   },
   "outputs": [
    {
     "data": {
      "text/plain": [
       "79"
      ]
     },
     "execution_count": 26,
     "metadata": {},
     "output_type": "execute_result"
    }
   ],
   "source": [
    "int(x) + int(y)"
   ]
  },
  {
   "cell_type": "code",
   "execution_count": 27,
   "metadata": {
    "collapsed": false
   },
   "outputs": [
    {
     "data": {
      "text/plain": [
       "'The value of x is 37'"
      ]
     },
     "execution_count": 27,
     "metadata": {},
     "output_type": "execute_result"
    }
   ],
   "source": [
    "# Convert anything to a string using str()\n",
    "\"The value of x is \" + str(x)"
   ]
  },
  {
   "cell_type": "markdown",
   "metadata": {},
   "source": [
    "## Lists"
   ]
  },
  {
   "cell_type": "code",
   "execution_count": 28,
   "metadata": {
    "collapsed": true
   },
   "outputs": [],
   "source": [
    "# Python has built-in Syntax for lists\n",
    "names = [ 'Dave', 'Mark', 'Ann', 'Phil' ]"
   ]
  },
  {
   "cell_type": "code",
   "execution_count": 29,
   "metadata": {
    "collapsed": false
   },
   "outputs": [
    {
     "name": "stdout",
     "output_type": "stream",
     "text": [
      "Ann\n",
      "['Dave', 'Mark', 'Ann']\n",
      "['Mark']\n"
     ]
    }
   ],
   "source": [
    "# Lists are another kind of sequence\n",
    "print(names[2])\n",
    "print(names[:3])    # l[start:stop]  gives elems i st. start <= i < stop\n",
    "print(names[1:2])"
   ]
  },
  {
   "cell_type": "code",
   "execution_count": 30,
   "metadata": {
    "collapsed": false
   },
   "outputs": [
    {
     "name": "stdout",
     "output_type": "stream",
     "text": [
      "['Ann', 'Phil']\n",
      "Phil\n"
     ]
    }
   ],
   "source": [
    "# Negative indices count from the end\n",
    "print(names[-2:])  # Last two names\n",
    "print(names[-1])   # Last name"
   ]
  },
  {
   "cell_type": "code",
   "execution_count": 31,
   "metadata": {
    "collapsed": false
   },
   "outputs": [
    {
     "name": "stdout",
     "output_type": "stream",
     "text": [
      "['Jeff', 'Mark', 'Ann', 'Phil']\n"
     ]
    }
   ],
   "source": [
    "# Lists are mutable\n",
    "names[0] = \"Jeff\"\n",
    "print(names)"
   ]
  },
  {
   "cell_type": "code",
   "execution_count": 32,
   "metadata": {
    "collapsed": false
   },
   "outputs": [
    {
     "name": "stdout",
     "output_type": "stream",
     "text": [
      "['Jeff', 'Mark', 'Ann', 'Phil', 'Paula']\n"
     ]
    }
   ],
   "source": [
    "# Append at end\n",
    "names.append(\"Paula\")\n",
    "print(names)"
   ]
  },
  {
   "cell_type": "code",
   "execution_count": 33,
   "metadata": {
    "collapsed": false
   },
   "outputs": [
    {
     "name": "stdout",
     "output_type": "stream",
     "text": [
      "['Jeff', 'Mark', 'Thomas', 'Ann', 'Phil', 'Paula']\n"
     ]
    }
   ],
   "source": [
    "# Insert anywhere (slow!)\n",
    "names.insert(2, \"Thomas\")\n",
    "print(names)"
   ]
  },
  {
   "cell_type": "code",
   "execution_count": 34,
   "metadata": {
    "collapsed": false
   },
   "outputs": [
    {
     "name": "stdout",
     "output_type": "stream",
     "text": [
      "['Dave', 'Mark', 'Jeff', 'Thomas', 'Ann', 'Phil', 'Paula']\n"
     ]
    }
   ],
   "source": [
    "# Can assign to slices\n",
    "names[0:2] = ['Dave', 'Mark', 'Jeff']\n",
    "print(names)"
   ]
  },
  {
   "cell_type": "code",
   "execution_count": 35,
   "metadata": {
    "collapsed": false
   },
   "outputs": [
    {
     "data": {
      "text/plain": [
       "[1, 2, 3, 4, 5]"
      ]
     },
     "execution_count": 35,
     "metadata": {},
     "output_type": "execute_result"
    }
   ],
   "source": [
    "# Concatenate with +\n",
    "[1,2,3] + [4,5]"
   ]
  },
  {
   "cell_type": "code",
   "execution_count": 36,
   "metadata": {
    "collapsed": false
   },
   "outputs": [
    {
     "name": "stdout",
     "output_type": "stream",
     "text": [
      "[]\n",
      "[]\n"
     ]
    }
   ],
   "source": [
    "# Empty list is [] or list()\n",
    "print([])\n",
    "print(list())"
   ]
  },
  {
   "cell_type": "code",
   "execution_count": 37,
   "metadata": {
    "collapsed": false
   },
   "outputs": [
    {
     "name": "stdout",
     "output_type": "stream",
     "text": [
      "Dave\n",
      "9\n",
      "101\n"
     ]
    }
   ],
   "source": [
    "# List elements can be anything, even other lists\n",
    "a = [1, 'Dave', 3.14, ['Mark', 7, 9, [100, 101]], 10]\n",
    "print(a[1])\n",
    "print(a[3][2])\n",
    "print(a[3][3][1])"
   ]
  },
  {
   "cell_type": "code",
   "execution_count": 38,
   "metadata": {
    "collapsed": false
   },
   "outputs": [
    {
     "data": {
      "text/plain": [
       "3"
      ]
     },
     "execution_count": 38,
     "metadata": {},
     "output_type": "execute_result"
    }
   ],
   "source": [
    "# Length\n",
    "len(['one', 'two', 'three'])"
   ]
  },
  {
   "cell_type": "markdown",
   "metadata": {},
   "source": [
    "### List comprehensions\n",
    "\n",
    "This is one of Python's nicest features.  Use it whenever possible to write readable code for populating lists."
   ]
  },
  {
   "cell_type": "code",
   "execution_count": 39,
   "metadata": {
    "collapsed": false
   },
   "outputs": [
    {
     "name": "stdout",
     "output_type": "stream",
     "text": [
      "['5.14', '4.78', '3.41']\n"
     ]
    }
   ],
   "source": [
    "l = ['3.14', '2.78', '1.414']\n",
    "fvalues = [('%.2f' % (float(x) + 2)) for x in l]\n",
    "print(fvalues)"
   ]
  },
  {
   "cell_type": "code",
   "execution_count": 40,
   "metadata": {
    "collapsed": false
   },
   "outputs": [
    {
     "data": {
      "text/plain": [
       "['5.14', '4.78', '3.41']"
      ]
     },
     "execution_count": 40,
     "metadata": {},
     "output_type": "execute_result"
    }
   ],
   "source": [
    "# Equivalent to the above\n",
    "fvalues = []\n",
    "for x in l:\n",
    "    fvalues.append('%.2f' % (float(x) + 2))\n",
    "fvalues"
   ]
  },
  {
   "cell_type": "markdown",
   "metadata": {},
   "source": [
    "More on list comprehensions later"
   ]
  },
  {
   "cell_type": "markdown",
   "metadata": {},
   "source": [
    "## Tuples\n",
    "\n",
    "Like lists, but immutable.  There's handy syntax for creating tuples (**packing**) and extracting fields from them (**unpacking**)"
   ]
  },
  {
   "cell_type": "code",
   "execution_count": 41,
   "metadata": {
    "collapsed": false
   },
   "outputs": [
    {
     "name": "stdout",
     "output_type": "stream",
     "text": [
      "('GOOG', 100, 490.1)\n",
      "('www.python.org', 80)\n"
     ]
    }
   ],
   "source": [
    "# Use () to build tuples\n",
    "stock = ('GOOG', 100, 490.10)\n",
    "address = ('www.python.org', 80)\n",
    "print(stock)\n",
    "print(address)"
   ]
  },
  {
   "cell_type": "code",
   "execution_count": 42,
   "metadata": {
    "collapsed": false
   },
   "outputs": [
    {
     "name": "stdout",
     "output_type": "stream",
     "text": [
      "('GOOG', 100, 490.1)\n",
      "('www.python.org', 80)\n"
     ]
    }
   ],
   "source": [
    "# You can often omit the parentheses\n",
    "stock = 'GOOG', 100, 490.10\n",
    "address = 'www.python.org', 80\n",
    "print(stock)\n",
    "print(address)"
   ]
  },
  {
   "cell_type": "code",
   "execution_count": 43,
   "metadata": {
    "collapsed": false
   },
   "outputs": [
    {
     "name": "stdout",
     "output_type": "stream",
     "text": [
      "Contact www.python.org at 80\n"
     ]
    }
   ],
   "source": [
    "# Using tuples on the left-hand side of assignment allows you to extract fields\n",
    "name, shares, prices = stock\n",
    "host, port = address\n",
    "print('Contact %s at %d' % (host, port))"
   ]
  },
  {
   "cell_type": "code",
   "execution_count": 44,
   "metadata": {
    "collapsed": false
   },
   "outputs": [
    {
     "data": {
      "text/plain": [
       "(('hello', 80), 100, 5.6)"
      ]
     },
     "execution_count": 44,
     "metadata": {},
     "output_type": "execute_result"
    }
   ],
   "source": [
    "# Packing and unpacking works for nested tuples too\n",
    "nested_tuple = (('hello', 80), 100, 5.6)\n",
    "nested_tuple"
   ]
  },
  {
   "cell_type": "code",
   "execution_count": 45,
   "metadata": {
    "collapsed": true
   },
   "outputs": [],
   "source": [
    "((name, port), size, coinsinpocket) = nested_tuple"
   ]
  },
  {
   "cell_type": "code",
   "execution_count": 46,
   "metadata": {
    "collapsed": false
   },
   "outputs": [
    {
     "name": "stdout",
     "output_type": "stream",
     "text": [
      "hello\n",
      "80\n",
      "100\n",
      "5.6\n"
     ]
    }
   ],
   "source": [
    "print(name)\n",
    "print(port)\n",
    "print(size)\n",
    "print(coinsinpocket)"
   ]
  },
  {
   "cell_type": "code",
   "execution_count": 47,
   "metadata": {
    "collapsed": false
   },
   "outputs": [
    {
     "name": "stdout",
     "output_type": "stream",
     "text": [
      "()\n",
      "()\n"
     ]
    }
   ],
   "source": [
    "# Empty tuple with () or tuple()\n",
    "print(())\n",
    "print(tuple())"
   ]
  },
  {
   "cell_type": "code",
   "execution_count": 48,
   "metadata": {
    "collapsed": false
   },
   "outputs": [
    {
     "name": "stdout",
     "output_type": "stream",
     "text": [
      "[('GOOG', 100, 490.1), ('MSFT', 50, 54.23)]\n"
     ]
    }
   ],
   "source": [
    "# Extended example: simple CSV reader\n",
    "portfolio = []\n",
    "for line in open(\"portfolio.csv\"):\n",
    "    fields = line.split(\",\")        # Split at commas; doesn't handle quoted fields!\n",
    "    name   = fields[0]              # Extract and convert individual fields\n",
    "    shares = int(fields[1])\n",
    "    price  = float(fields[2])\n",
    "    stock  = (name, shares, price)\n",
    "    portfolio.append(stock)\n",
    "\n",
    "print portfolio"
   ]
  },
  {
   "cell_type": "code",
   "execution_count": 49,
   "metadata": {
    "collapsed": false
   },
   "outputs": [
    {
     "name": "stdout",
     "output_type": "stream",
     "text": [
      "('GOOG', 100, 490.1)\n",
      "50\n"
     ]
    }
   ],
   "source": [
    "# Access individual items\n",
    "print(portfolio[0])\n",
    "print(portfolio[1][1])"
   ]
  },
  {
   "cell_type": "code",
   "execution_count": 50,
   "metadata": {
    "collapsed": false
   },
   "outputs": [
    {
     "data": {
      "text/plain": [
       "51721.5"
      ]
     },
     "execution_count": 50,
     "metadata": {},
     "output_type": "execute_result"
    }
   ],
   "source": [
    "# Tuple unpacking is most useful in for loops\n",
    "total = 0.0\n",
    "for name, shares, price in portfolio:\n",
    "    total += shares * price\n",
    "\n",
    "total"
   ]
  },
  {
   "cell_type": "markdown",
   "metadata": {},
   "source": [
    "## Dictionaries"
   ]
  },
  {
   "cell_type": "markdown",
   "metadata": {},
   "source": [
    "Index values by key.  Key can be any (immutable) Python object, e.g., strings, integers, floats, ..."
   ]
  },
  {
   "cell_type": "code",
   "execution_count": 51,
   "metadata": {
    "collapsed": false
   },
   "outputs": [
    {
     "name": "stdout",
     "output_type": "stream",
     "text": [
      "{'price': 490.1, 'name': 'GOOG', 'shares': 100}\n"
     ]
    }
   ],
   "source": [
    "# Create dictionary inline\n",
    "stock = {\n",
    "    \"name\":   \"GOOG\",\n",
    "    \"shares\": 100,\n",
    "    \"price\":  490.10\n",
    "}\n",
    "print(stock)"
   ]
  },
  {
   "cell_type": "markdown",
   "metadata": {},
   "source": [
    "Notice the similarity to JSON format.  Python plays extremely well with JSON data."
   ]
  },
  {
   "cell_type": "code",
   "execution_count": 52,
   "metadata": {
    "collapsed": false
   },
   "outputs": [
    {
     "name": "stdout",
     "output_type": "stream",
     "text": [
      "GOOG\n",
      "49010.0\n"
     ]
    }
   ],
   "source": [
    "# Lookup items\n",
    "print(stock[\"name\"])\n",
    "print(stock[\"shares\"] * stock[\"price\"])"
   ]
  },
  {
   "cell_type": "code",
   "execution_count": 53,
   "metadata": {
    "collapsed": false
   },
   "outputs": [
    {
     "name": "stdout",
     "output_type": "stream",
     "text": [
      "{}\n",
      "{}\n"
     ]
    }
   ],
   "source": [
    "# Empty dictionary with {} or dict()\n",
    "print({})\n",
    "print(dict())"
   ]
  },
  {
   "cell_type": "code",
   "execution_count": 54,
   "metadata": {
    "collapsed": false
   },
   "outputs": [
    {
     "name": "stdout",
     "output_type": "stream",
     "text": [
      "0.0\n"
     ]
    }
   ],
   "source": [
    "# Test membership with `in` operator\n",
    "prices = {\n",
    "    \"GOOG\": 490.10,\n",
    "    \"AAPL\": 123.50,\n",
    "    \"IBM\":  91.50,\n",
    "    \"MSFT\": 52.13\n",
    "}\n",
    "\n",
    "if \"SCOX\" in prices:\n",
    "    print(prices[\"SCOX\"])\n",
    "else:\n",
    "    print(0.0)"
   ]
  },
  {
   "cell_type": "code",
   "execution_count": 55,
   "metadata": {
    "collapsed": false
   },
   "outputs": [
    {
     "name": "stdout",
     "output_type": "stream",
     "text": [
      "0.0\n"
     ]
    }
   ],
   "source": [
    "# Use `get` to provide a default value\n",
    "print(prices.get(\"SCOX\", 0.0))"
   ]
  },
  {
   "cell_type": "code",
   "execution_count": 56,
   "metadata": {
    "collapsed": false
   },
   "outputs": [
    {
     "name": "stdout",
     "output_type": "stream",
     "text": [
      "['GOOG', 'AAPL', 'IBM', 'MSFT']\n",
      "['GOOG', 'AAPL', 'IBM', 'MSFT']\n"
     ]
    }
   ],
   "source": [
    "# Get keys by converting to list or by using `keys()` method\n",
    "print(list(prices))\n",
    "print(prices.keys())"
   ]
  },
  {
   "cell_type": "code",
   "execution_count": 57,
   "metadata": {
    "collapsed": false
   },
   "outputs": [
    {
     "name": "stdout",
     "output_type": "stream",
     "text": [
      "{'GOOG': 490.1, 'AAPL': 123.5, 'IBM': 91.5}\n"
     ]
    }
   ],
   "source": [
    "# Delete with del\n",
    "del prices['MSFT']\n",
    "print(prices)"
   ]
  },
  {
   "cell_type": "code",
   "execution_count": 58,
   "metadata": {
    "collapsed": false
   },
   "outputs": [
    {
     "name": "stdout",
     "output_type": "stream",
     "text": [
      "['GOOG', 'AAPL', 'IBM']\n",
      "[490.1, 123.5, 91.5]\n",
      "[('GOOG', 490.1), ('AAPL', 123.5), ('IBM', 91.5)]\n"
     ]
    }
   ],
   "source": [
    "print(prices.keys())\n",
    "print(prices.values())\n",
    "print(prices.items())"
   ]
  },
  {
   "cell_type": "markdown",
   "metadata": {},
   "source": [
    "### Detour: Working with JSON"
   ]
  },
  {
   "cell_type": "code",
   "execution_count": 59,
   "metadata": {
    "collapsed": true
   },
   "outputs": [],
   "source": [
    "import json"
   ]
  },
  {
   "cell_type": "code",
   "execution_count": 60,
   "metadata": {
    "collapsed": true
   },
   "outputs": [],
   "source": [
    "sample = json.load(open(\"sample.json\"))"
   ]
  },
  {
   "cell_type": "code",
   "execution_count": 61,
   "metadata": {
    "collapsed": false
   },
   "outputs": [
    {
     "data": {
      "text/plain": [
       "[{u'Clusters': {u'desired_config': [{u'properties': {u'admin_server_host': u'kdc.cluster.local',\n",
       "      u'case_insensitive_username_rules': u'false',\n",
       "      u'container_dn': u'',\n",
       "      u'create_attributes_template': u'\\n{\\n  \"objectClass\": [\"top\", \"person\", \"organizationalPerson\", \"user\"],\\n  \"cn\": \"$principal_name\",\\n  #if( $is_service )\\n  \"servicePrincipalName\": \"$principal_name\",\\n  #end\\n  \"userPrincipalName\": \"$normalized_principal\",\\n  \"unicodePwd\": \"$password\",\\n  \"accountExpires\": \"0\",\\n  \"userAccountControl\": \"66048\"\\n}\\n    ',\n",
       "      u'encryption_types': u'aes des3-cbc-sha1 rc4 des-cbc-md5',\n",
       "      u'executable_search_paths': u'/usr/bin, /usr/kerberos/bin, /usr/sbin, /usr/lib/mit/bin, /usr/lib/mit/sbin',\n",
       "      u'install_packages': u'false',\n",
       "      u'kdc_host': u'kdc.cluster.local',\n",
       "      u'kdc_type': u'mit-kdc',\n",
       "      u'ldap_url': u'',\n",
       "      u'manage_identities': u'true',\n",
       "      u'password_length': u'20',\n",
       "      u'password_min_digits': u'1',\n",
       "      u'password_min_lowercase_letters': u'1',\n",
       "      u'password_min_punctuation': u'1',\n",
       "      u'password_min_uppercase_letters': u'1',\n",
       "      u'password_min_whitespace': u'0',\n",
       "      u'realm': u'CLUSTER.LOCAL',\n",
       "      u'service_check_principal_name': u'${cluster_name}-${short_date}'},\n",
       "     u'service_config_version_note': u'This is the initial configuration created by Enable Kerberos wizard.',\n",
       "     u'tag': u'version1439379923275',\n",
       "     u'type': u'kerberos-env'},\n",
       "    {u'properties': {u'conf_dir': u'/etc',\n",
       "      u'content': u\"\\n[libdefaults]\\n  renew_lifetime = 7d\\n  forwardable = true\\n  default_realm = {{realm}}\\n  ticket_lifetime = 24h\\n  dns_lookup_realm = false\\n  dns_lookup_kdc = false\\n  #default_tgs_enctypes = {{encryption_types}}\\n  #default_tkt_enctypes = {{encryption_types}}\\n\\n{% if domains %}\\n[domain_realm]\\n{% for domain in domains.split(',') %}\\n  {{domain}} = {{realm}}\\n{% endfor %}\\n{% endif %}\\n\\n[logging]\\n  default = FILE:/var/log/krb5kdc.log\\n  admin_server = FILE:/var/log/kadmind.log\\n  kdc = FILE:/var/log/krb5kdc.log\\n\\n[realms]\\n  {{realm}} = {\\n    admin_server = {{admin_server_host|default(kdc_host, True)}}\\n    kdc = {{kdc_host}}\\n  }\\n\\n{# Append additional realm declarations below #}\\n    \",\n",
       "      u'domains': u'cluster.local,.cluster.local',\n",
       "      u'manage_krb5_conf': u'false'},\n",
       "     u'service_config_version_note': u'This is the initial configuration created by Enable Kerberos wizard.',\n",
       "     u'tag': u'version1439379923275',\n",
       "     u'type': u'krb5-conf'}]}}]"
      ]
     },
     "execution_count": 61,
     "metadata": {},
     "output_type": "execute_result"
    }
   ],
   "source": [
    "sample   # u'str' is a Unicode-encoded string, ignore for now"
   ]
  },
  {
   "cell_type": "code",
   "execution_count": 62,
   "metadata": {
    "collapsed": false
   },
   "outputs": [
    {
     "name": "stdout",
     "output_type": "stream",
     "text": [
      "[\n",
      "  {\n",
      "    \"Clusters\": {\n",
      "      \"desired_config\": [\n",
      "        {\n",
      "          \"properties\": {\n",
      "            \"admin_server_host\": \"kdc.cluster.local\", \n",
      "            \"case_insensitive_username_rules\": \"false\", \n",
      "            \"container_dn\": \"\", \n",
      "            \"create_attributes_template\": \"\\n{\\n  \\\"objectClass\\\": [\\\"top\\\", \\\"person\\\", \\\"organizationalPerson\\\", \\\"user\\\"],\\n  \\\"cn\\\": \\\"$principal_name\\\",\\n  #if( $is_service )\\n  \\\"servicePrincipalName\\\": \\\"$principal_name\\\",\\n  #end\\n  \\\"userPrincipalName\\\": \\\"$normalized_principal\\\",\\n  \\\"unicodePwd\\\": \\\"$password\\\",\\n  \\\"accountExpires\\\": \\\"0\\\",\\n  \\\"userAccountControl\\\": \\\"66048\\\"\\n}\\n    \", \n",
      "            \"encryption_types\": \"aes des3-cbc-sha1 rc4 des-cbc-md5\", \n",
      "            \"executable_search_paths\": \"/usr/bin, /usr/kerberos/bin, /usr/sbin, /usr/lib/mit/bin, /usr/lib/mit/sbin\", \n",
      "            \"install_packages\": \"false\", \n",
      "            \"kdc_host\": \"kdc.cluster.local\", \n",
      "            \"kdc_type\": \"mit-kdc\", \n",
      "            \"ldap_url\": \"\", \n",
      "            \"manage_identities\": \"true\", \n",
      "            \"password_length\": \"20\", \n",
      "            \"password_min_digits\": \"1\", \n",
      "            \"password_min_lowercase_letters\": \"1\", \n",
      "            \"password_min_punctuation\": \"1\", \n",
      "            \"password_min_uppercase_letters\": \"1\", \n",
      "            \"password_min_whitespace\": \"0\", \n",
      "            \"realm\": \"CLUSTER.LOCAL\", \n",
      "            \"service_check_principal_name\": \"${cluster_name}-${short_date}\"\n",
      "          }, \n",
      "          \"service_config_version_note\": \"This is the initial configuration created by Enable Kerberos wizard.\", \n",
      "          \"tag\": \"version1439379923275\", \n",
      "          \"type\": \"kerberos-env\"\n",
      "        }, \n",
      "        {\n",
      "          \"properties\": {\n",
      "            \"conf_dir\": \"/etc\", \n",
      "            \"content\": \"\\n[libdefaults]\\n  renew_lifetime = 7d\\n  forwardable = true\\n  default_realm = {{realm}}\\n  ticket_lifetime = 24h\\n  dns_lookup_realm = false\\n  dns_lookup_kdc = false\\n  #default_tgs_enctypes = {{encryption_types}}\\n  #default_tkt_enctypes = {{encryption_types}}\\n\\n{% if domains %}\\n[domain_realm]\\n{% for domain in domains.split(',') %}\\n  {{domain}} = {{realm}}\\n{% endfor %}\\n{% endif %}\\n\\n[logging]\\n  default = FILE:/var/log/krb5kdc.log\\n  admin_server = FILE:/var/log/kadmind.log\\n  kdc = FILE:/var/log/krb5kdc.log\\n\\n[realms]\\n  {{realm}} = {\\n    admin_server = {{admin_server_host|default(kdc_host, True)}}\\n    kdc = {{kdc_host}}\\n  }\\n\\n{# Append additional realm declarations below #}\\n    \", \n",
      "            \"domains\": \"cluster.local,.cluster.local\", \n",
      "            \"manage_krb5_conf\": \"false\"\n",
      "          }, \n",
      "          \"service_config_version_note\": \"This is the initial configuration created by Enable Kerberos wizard.\", \n",
      "          \"tag\": \"version1439379923275\", \n",
      "          \"type\": \"krb5-conf\"\n",
      "        }\n",
      "      ]\n",
      "    }\n",
      "  }\n",
      "]\n"
     ]
    }
   ],
   "source": [
    "# Pretty printing\n",
    "print(json.dumps(sample, indent=2, sort_keys=True))"
   ]
  },
  {
   "cell_type": "code",
   "execution_count": 63,
   "metadata": {
    "collapsed": false
   },
   "outputs": [
    {
     "data": {
      "text/plain": [
       "[u'Clusters']"
      ]
     },
     "execution_count": 63,
     "metadata": {},
     "output_type": "execute_result"
    }
   ],
   "source": [
    "sample[0].keys()"
   ]
  },
  {
   "cell_type": "code",
   "execution_count": 64,
   "metadata": {
    "collapsed": false
   },
   "outputs": [
    {
     "data": {
      "text/plain": [
       "[u'desired_config']"
      ]
     },
     "execution_count": 64,
     "metadata": {},
     "output_type": "execute_result"
    }
   ],
   "source": [
    "sample[0]['Clusters'].keys()"
   ]
  },
  {
   "cell_type": "code",
   "execution_count": 65,
   "metadata": {
    "collapsed": false
   },
   "outputs": [
    {
     "data": {
      "text/plain": [
       "u'kdc.cluster.local'"
      ]
     },
     "execution_count": 65,
     "metadata": {},
     "output_type": "execute_result"
    }
   ],
   "source": [
    "sample[0]['Clusters']['desired_config'][0]['properties']['admin_server_host']"
   ]
  },
  {
   "cell_type": "code",
   "execution_count": 66,
   "metadata": {
    "collapsed": false
   },
   "outputs": [
    {
     "data": {
      "text/plain": [
       "'{\"list\": [1, 2, 3], \"name\": \"Hello world\", \"props\": {\"colour\": \"blue\", \"number\": 5}}'"
      ]
     },
     "execution_count": 66,
     "metadata": {},
     "output_type": "execute_result"
    }
   ],
   "source": [
    "# Turn nested lists and dictionaries into JSON string\n",
    "obj = {\n",
    "    \"list\": [1, 2, 3],\n",
    "    \"name\": \"Hello world\",\n",
    "    \"props\": {\n",
    "        \"colour\": \"blue\",\n",
    "        \"number\": 5\n",
    "    }\n",
    "}\n",
    "json.dumps(obj)  # Could write this to a file or send to a web server"
   ]
  },
  {
   "cell_type": "markdown",
   "metadata": {},
   "source": [
    "## Iteration and Looping"
   ]
  },
  {
   "cell_type": "code",
   "execution_count": 67,
   "metadata": {
    "collapsed": false
   },
   "outputs": [
    {
     "name": "stdout",
     "output_type": "stream",
     "text": [
      "2 to the 1 power is 2\n",
      "2 to the 2 power is 4\n",
      "2 to the 3 power is 8\n",
      "2 to the 4 power is 16\n",
      "2 to the 5 power is 32\n",
      "2 to the 6 power is 64\n",
      "2 to the 7 power is 128\n",
      "2 to the 8 power is 256\n",
      "2 to the 9 power is 512\n"
     ]
    }
   ],
   "source": [
    "# Iterating over a list\n",
    "for n in [1,2,3,4,5,6,7,8,9]:\n",
    "    print(\"2 to the %d power is %d\" % (n, 2**n))   # ** = exponentiation operator"
   ]
  },
  {
   "cell_type": "markdown",
   "metadata": {},
   "source": [
    "`range([start=0],stop,[stride])` generates the list of integers from `start` to `stop`, stepping by `stride`"
   ]
  },
  {
   "cell_type": "code",
   "execution_count": 68,
   "metadata": {
    "collapsed": false
   },
   "outputs": [
    {
     "name": "stdout",
     "output_type": "stream",
     "text": [
      "2 to the 1 power is 2\n",
      "2 to the 2 power is 4\n",
      "2 to the 3 power is 8\n",
      "2 to the 4 power is 16\n",
      "2 to the 5 power is 32\n",
      "2 to the 6 power is 64\n",
      "2 to the 7 power is 128\n",
      "2 to the 8 power is 256\n"
     ]
    }
   ],
   "source": [
    "# Idiomatic for the above loop\n",
    "for n in range(1,9):\n",
    "    print(\"2 to the %d power is %d\" % (n, 2**n))   # ** = exponentiation operator"
   ]
  },
  {
   "cell_type": "code",
   "execution_count": 69,
   "metadata": {
    "collapsed": false
   },
   "outputs": [
    {
     "name": "stdout",
     "output_type": "stream",
     "text": [
      "H\n",
      "e\n",
      "l\n",
      "l\n",
      "o\n",
      " \n",
      "w\n",
      "o\n",
      "r\n",
      "l\n",
      "d\n"
     ]
    }
   ],
   "source": [
    "s = 'Hello world'\n",
    "for i in range(len(s)):\n",
    "    print(s[i])"
   ]
  },
  {
   "cell_type": "code",
   "execution_count": 70,
   "metadata": {
    "collapsed": false
   },
   "outputs": [
    {
     "name": "stdout",
     "output_type": "stream",
     "text": [
      "[0, 1, 2, 3, 4]\n",
      "[1, 2, 3, 4, 5, 6, 7]\n",
      "[0, 3, 6, 9, 12]\n",
      "[8, 7, 6, 5, 4, 3, 2]\n"
     ]
    }
   ],
   "source": [
    "print(range(5))       # [0,1,2,3,4]\n",
    "print(range(1,8))     # [1,2,3,4,5,6,7]\n",
    "print(range(0,14,3))  # [0,3,6,9,12]\n",
    "print(range(8,1,-1))  # [8,7,6,5,4,3,2,1]"
   ]
  },
  {
   "cell_type": "markdown",
   "metadata": {},
   "source": [
    "**Advanced**: range instatiates the list before iteration.  Use `xrange` for large loops instead (fixed in Python 3):"
   ]
  },
  {
   "cell_type": "code",
   "execution_count": 71,
   "metadata": {
    "collapsed": false
   },
   "outputs": [
    {
     "name": "stdout",
     "output_type": "stream",
     "text": [
      "4950\n"
     ]
    }
   ],
   "source": [
    "sum = 0\n",
    "for i in xrange(100):\n",
    "    sum += i\n",
    "print(sum)"
   ]
  },
  {
   "cell_type": "markdown",
   "metadata": {},
   "source": [
    "### You can iterate over lots of things!!"
   ]
  },
  {
   "cell_type": "code",
   "execution_count": 72,
   "metadata": {
    "collapsed": false
   },
   "outputs": [
    {
     "name": "stdout",
     "output_type": "stream",
     "text": [
      "H\n",
      "e\n",
      "l\n",
      "l\n",
      "o\n",
      " \n",
      "W\n",
      "o\n",
      "r\n",
      "l\n",
      "d\n"
     ]
    }
   ],
   "source": [
    "# Characters in a strings\n",
    "for c in 'Hello World':\n",
    "    print(c)"
   ]
  },
  {
   "cell_type": "code",
   "execution_count": 73,
   "metadata": {
    "collapsed": false
   },
   "outputs": [
    {
     "name": "stdout",
     "output_type": "stream",
     "text": [
      "Dave\n",
      "Mark\n",
      "Ann\n",
      "Phil\n"
     ]
    }
   ],
   "source": [
    "# Members in a list\n",
    "for name in ['Dave', 'Mark', 'Ann', 'Phil']:\n",
    "    print(name)"
   ]
  },
  {
   "cell_type": "code",
   "execution_count": 74,
   "metadata": {
    "collapsed": false
   },
   "outputs": [
    {
     "name": "stdout",
     "output_type": "stream",
     "text": [
      "('GOOG', 490.1)\n",
      "('AAPL', 123.5)\n",
      "('IBM', 91.5)\n"
     ]
    }
   ],
   "source": [
    "# Members in a dictionary: either keys or (key, value) pairs\n",
    "prices = {'GOOG': 490.1, 'AAPL': 123.5, 'IBM': 91.5}\n",
    "for key in prices:\n",
    "    print(key, prices[key])"
   ]
  },
  {
   "cell_type": "code",
   "execution_count": 75,
   "metadata": {
    "collapsed": false
   },
   "outputs": [
    {
     "name": "stdout",
     "output_type": "stream",
     "text": [
      "('GOOG', 490.1)\n",
      "('AAPL', 123.5)\n",
      "('IBM', 91.5)\n"
     ]
    }
   ],
   "source": [
    "# More idiomatic\n",
    "for key, value in prices.iteritems():\n",
    "    print(key, value)"
   ]
  },
  {
   "cell_type": "code",
   "execution_count": 76,
   "metadata": {
    "collapsed": false
   },
   "outputs": [
    {
     "name": "stdout",
     "output_type": "stream",
     "text": [
      "490.1\n",
      "123.5\n",
      "91.5\n"
     ]
    }
   ],
   "source": [
    "for p in prices.itervalues():\n",
    "    print(p)"
   ]
  },
  {
   "cell_type": "code",
   "execution_count": 77,
   "metadata": {
    "collapsed": false
   },
   "outputs": [
    {
     "name": "stdout",
     "output_type": "stream",
     "text": [
      "Line 1 of foo.txt\n",
      "Line 2 of foo.txt\n",
      "Line 3 of foo.txt\n"
     ]
    }
   ],
   "source": [
    "# Lines in a file\n",
    "for line in open('foo.txt'):\n",
    "    print(line.strip())"
   ]
  },
  {
   "cell_type": "markdown",
   "metadata": {},
   "source": [
    "You can define your own iterators, either directly or with generators (below)"
   ]
  },
  {
   "cell_type": "markdown",
   "metadata": {},
   "source": [
    "## Functions"
   ]
  },
  {
   "cell_type": "code",
   "execution_count": 78,
   "metadata": {
    "collapsed": true
   },
   "outputs": [],
   "source": [
    "# Simple function: use `def`\n",
    "def remainder(a,b):\n",
    "    q = a // b      # // is truncating division\n",
    "    r = a - q*b\n",
    "    return r"
   ]
  },
  {
   "cell_type": "code",
   "execution_count": 79,
   "metadata": {
    "collapsed": false
   },
   "outputs": [
    {
     "data": {
      "text/plain": [
       "7"
      ]
     },
     "execution_count": 79,
     "metadata": {},
     "output_type": "execute_result"
    }
   ],
   "source": [
    "remainder(37, 15)"
   ]
  },
  {
   "cell_type": "code",
   "execution_count": 80,
   "metadata": {
    "collapsed": true
   },
   "outputs": [],
   "source": [
    "# Use tuples to return more than one value\n",
    "def divide(a,b):\n",
    "    q = a // b\n",
    "    r = a - q*b\n",
    "    return (q,r)"
   ]
  },
  {
   "cell_type": "code",
   "execution_count": 81,
   "metadata": {
    "collapsed": false
   },
   "outputs": [
    {
     "name": "stdout",
     "output_type": "stream",
     "text": [
      "44\n",
      "4\n"
     ]
    }
   ],
   "source": [
    "quot, rem = divide(1456, 33)\n",
    "print(quot)\n",
    "print(rem)"
   ]
  },
  {
   "cell_type": "code",
   "execution_count": 82,
   "metadata": {
    "collapsed": true
   },
   "outputs": [],
   "source": [
    "# Can provide default values using `=` in argument list\n",
    "def connect(hostname, port, timeout=300):\n",
    "    print('Connecting to %s:%d (timing out after %d seconds)' % (hostname, port, timeout))"
   ]
  },
  {
   "cell_type": "code",
   "execution_count": 83,
   "metadata": {
    "collapsed": false
   },
   "outputs": [
    {
     "name": "stdout",
     "output_type": "stream",
     "text": [
      "Connecting to www.python.org:80 (timing out after 300 seconds)\n"
     ]
    }
   ],
   "source": [
    "connect('www.python.org', 80)"
   ]
  },
  {
   "cell_type": "code",
   "execution_count": 84,
   "metadata": {
    "collapsed": false
   },
   "outputs": [
    {
     "name": "stdout",
     "output_type": "stream",
     "text": [
      "Connecting to www.python.org:80 (timing out after 10 seconds)\n"
     ]
    }
   ],
   "source": [
    "connect('www.python.org', 80, 10)"
   ]
  },
  {
   "cell_type": "code",
   "execution_count": 85,
   "metadata": {
    "collapsed": false
   },
   "outputs": [
    {
     "name": "stdout",
     "output_type": "stream",
     "text": [
      "Connecting to www.python.org:443 (timing out after 30 seconds)\n",
      "Connecting to www.python.org:443 (timing out after 15 seconds)\n"
     ]
    }
   ],
   "source": [
    "# Use keyword arguments for clarity and/or to choose your own parameter order\n",
    "connect(timeout=30, port=443, hostname='www.python.org')\n",
    "connect('www.python.org', 443, timeout=15)"
   ]
  },
  {
   "cell_type": "code",
   "execution_count": 86,
   "metadata": {
    "collapsed": false
   },
   "outputs": [
    {
     "data": {
      "text/plain": [
       "5"
      ]
     },
     "execution_count": 86,
     "metadata": {},
     "output_type": "execute_result"
    }
   ],
   "source": [
    "# Anonymous functions using lambda\n",
    "addTwo = (lambda x: x + 2)\n",
    "addTwo(3)"
   ]
  },
  {
   "cell_type": "code",
   "execution_count": 87,
   "metadata": {
    "collapsed": false
   },
   "outputs": [
    {
     "data": {
      "text/plain": [
       "[2, 4]"
      ]
     },
     "execution_count": 87,
     "metadata": {},
     "output_type": "execute_result"
    }
   ],
   "source": [
    "# Useful for higher-order manipulations\n",
    "map(lambda x: x * 2, [1, 2])  # Idiomatic way: [x*2 for x in [1,2]]"
   ]
  },
  {
   "cell_type": "code",
   "execution_count": 88,
   "metadata": {
    "collapsed": false
   },
   "outputs": [
    {
     "data": {
      "text/plain": [
       "[2, 4]"
      ]
     },
     "execution_count": 88,
     "metadata": {},
     "output_type": "execute_result"
    }
   ],
   "source": [
    "[x*2 for x in [1,2]]"
   ]
  },
  {
   "cell_type": "markdown",
   "metadata": {},
   "source": [
    "## Generators"
   ]
  },
  {
   "cell_type": "markdown",
   "metadata": {},
   "source": [
    "_Note to self: Skip this section and next if running low on time_"
   ]
  },
  {
   "cell_type": "markdown",
   "metadata": {},
   "source": [
    "Custom iterators with a nice syntax.  Similar to `C#`."
   ]
  },
  {
   "cell_type": "code",
   "execution_count": 89,
   "metadata": {
    "collapsed": true
   },
   "outputs": [],
   "source": [
    "def countdown(n):\n",
    "    print(\"Counting down!\")\n",
    "    while n > 0:\n",
    "        yield n   # Generate a value (n)\n",
    "        n -= 1"
   ]
  },
  {
   "cell_type": "code",
   "execution_count": 90,
   "metadata": {
    "collapsed": true
   },
   "outputs": [],
   "source": [
    "c = countdown(5)"
   ]
  },
  {
   "cell_type": "code",
   "execution_count": 91,
   "metadata": {
    "collapsed": false
   },
   "outputs": [
    {
     "name": "stdout",
     "output_type": "stream",
     "text": [
      "Counting down!\n"
     ]
    },
    {
     "data": {
      "text/plain": [
       "5"
      ]
     },
     "execution_count": 91,
     "metadata": {},
     "output_type": "execute_result"
    }
   ],
   "source": [
    "c.next()"
   ]
  },
  {
   "cell_type": "code",
   "execution_count": 92,
   "metadata": {
    "collapsed": false
   },
   "outputs": [
    {
     "data": {
      "text/plain": [
       "4"
      ]
     },
     "execution_count": 92,
     "metadata": {},
     "output_type": "execute_result"
    }
   ],
   "source": [
    "# At this point, execution of \"countdown\" is suspended at yield statement.\n",
    "# Calling next() resumes it until the next yield\n",
    "c.next()"
   ]
  },
  {
   "cell_type": "code",
   "execution_count": 93,
   "metadata": {
    "collapsed": false
   },
   "outputs": [
    {
     "name": "stdout",
     "output_type": "stream",
     "text": [
      "Counting down!\n",
      "5\n",
      "4\n",
      "3\n",
      "2\n",
      "1\n"
     ]
    }
   ],
   "source": [
    "for i in countdown(5):\n",
    "    print i"
   ]
  },
  {
   "cell_type": "code",
   "execution_count": 94,
   "metadata": {
    "collapsed": false
   },
   "outputs": [
    {
     "name": "stdout",
     "output_type": "stream",
     "text": [
      "Counting down!\n",
      "15\n"
     ]
    }
   ],
   "source": [
    "tot = 0\n",
    "for i in countdown(5):\n",
    "    tot += i\n",
    "print tot"
   ]
  },
  {
   "cell_type": "markdown",
   "metadata": {},
   "source": [
    "Generators are useful for writing pipeline-style programs.  If you do things right, you can process files line-by-line without reading the whole file into memory."
   ]
  },
  {
   "cell_type": "code",
   "execution_count": 95,
   "metadata": {
    "collapsed": false
   },
   "outputs": [
    {
     "name": "stdout",
     "output_type": "stream",
     "text": [
      "Line 2 of foo.txt\n"
     ]
    }
   ],
   "source": [
    "## Complex example: generators for tail +n and grep\n",
    "\n",
    "def tail(f, n):               # Ignore first n lines\n",
    "    for i in xrange(n):\n",
    "        f.readline()\n",
    "    for line in f:\n",
    "        yield line\n",
    "\n",
    "def stripper(lines):         # Trim whitespace\n",
    "    for line in lines:\n",
    "        yield line.strip()\n",
    "\n",
    "def grep(lines, searchtext):  # Filter for lines with searchtext\n",
    "    for line in lines:\n",
    "        if searchtext in line:\n",
    "            yield line\n",
    "            \n",
    "footail = tail(open(\"foo.txt\"), 1)   # Skip first line\n",
    "stripped = stripper(footail)         # Remove trailing newlines\n",
    "linesWith2 = grep(stripped, '2')     # Filter lines with the number '2' in them\n",
    "\n",
    "# File is read and processed one line at a time as this loop executes\n",
    "for line in linesWith2:\n",
    "    print(line)"
   ]
  },
  {
   "cell_type": "markdown",
   "metadata": {},
   "source": [
    "## Coroutines\n",
    "\n",
    "These are the \"inverse\" of generators: they sequentially *accept* input and suspend until further input is provided"
   ]
  },
  {
   "cell_type": "code",
   "execution_count": 96,
   "metadata": {
    "collapsed": true
   },
   "outputs": [],
   "source": [
    "def print_matches(matchtext):\n",
    "    print(\"Looking for %s\" % matchtext)\n",
    "    while True:\n",
    "        line = (yield)   # Get a line of text\n",
    "        if matchtext in line:\n",
    "            print(\"Match for '%s': %s\" % (matchtext, line))"
   ]
  },
  {
   "cell_type": "code",
   "execution_count": 97,
   "metadata": {
    "collapsed": true
   },
   "outputs": [],
   "source": [
    "matcher = print_matches(\"python\")"
   ]
  },
  {
   "cell_type": "code",
   "execution_count": 98,
   "metadata": {
    "collapsed": false
   },
   "outputs": [
    {
     "name": "stdout",
     "output_type": "stream",
     "text": [
      "Looking for python\n"
     ]
    }
   ],
   "source": [
    "matcher.next()   # Advance to the first yield"
   ]
  },
  {
   "cell_type": "code",
   "execution_count": 99,
   "metadata": {
    "collapsed": true
   },
   "outputs": [],
   "source": [
    "matcher.send(\"Hello world\")  # No match"
   ]
  },
  {
   "cell_type": "code",
   "execution_count": 100,
   "metadata": {
    "collapsed": false
   },
   "outputs": [
    {
     "name": "stdout",
     "output_type": "stream",
     "text": [
      "Match for 'python': python is cool\n"
     ]
    }
   ],
   "source": [
    "matcher.send(\"python is cool\")  # match!"
   ]
  },
  {
   "cell_type": "code",
   "execution_count": 101,
   "metadata": {
    "collapsed": true
   },
   "outputs": [],
   "source": [
    "matcher.send(\"yow!\")  # no match"
   ]
  },
  {
   "cell_type": "code",
   "execution_count": 102,
   "metadata": {
    "collapsed": true
   },
   "outputs": [],
   "source": [
    "matcher.close()  # done"
   ]
  },
  {
   "cell_type": "markdown",
   "metadata": {},
   "source": [
    "Co-routines are useful in producer-consumer scenarios, for asynchronous programming, etc.  Can set up data pipelines in which data is *pushed* in (pipelines with generators *pull* data)"
   ]
  },
  {
   "cell_type": "code",
   "execution_count": 103,
   "metadata": {
    "collapsed": false
   },
   "outputs": [
    {
     "name": "stdout",
     "output_type": "stream",
     "text": [
      "Looking for python\n",
      "Looking for guido\n",
      "Looking for jython\n",
      "Match for 'python': guido wrote python\n",
      "Match for 'guido': guido wrote python\n",
      "Match for 'python': python on java is called jython\n",
      "Match for 'jython': python on java is called jython\n"
     ]
    }
   ],
   "source": [
    "matchers = [\n",
    "    print_matches(\"python\"),\n",
    "    print_matches(\"guido\"),\n",
    "    print_matches(\"jython\")\n",
    "]\n",
    "\n",
    "# Prep all matchers\n",
    "for m in matchers: m.next()\n",
    "    \n",
    "# Create sample data\n",
    "data = ['guido wrote python', \"python on java is called jython\", \"hello\"]\n",
    "\n",
    "# Feed matchers\n",
    "for line in data:\n",
    "    for m in matchers:\n",
    "        m.send(line)"
   ]
  },
  {
   "cell_type": "markdown",
   "metadata": {},
   "source": [
    "## Objects and Classes"
   ]
  },
  {
   "cell_type": "markdown",
   "metadata": {},
   "source": [
    "Everything in Python is an object, and you can create new classes of objects with custom behaviour"
   ]
  },
  {
   "cell_type": "code",
   "execution_count": 104,
   "metadata": {
    "collapsed": false
   },
   "outputs": [
    {
     "data": {
      "text/plain": [
       "[37, 42, 73]"
      ]
     },
     "execution_count": 104,
     "metadata": {},
     "output_type": "execute_result"
    }
   ],
   "source": [
    "# A list is an object\n",
    "items = [37, 42]  # Create a list object\n",
    "items.append(73)  # Call the append() method\n",
    "items"
   ]
  },
  {
   "cell_type": "code",
   "execution_count": 105,
   "metadata": {
    "collapsed": false
   },
   "outputs": [
    {
     "data": {
      "text/plain": [
       "['__add__',\n",
       " '__class__',\n",
       " '__contains__',\n",
       " '__delattr__',\n",
       " '__delitem__',\n",
       " '__delslice__',\n",
       " '__doc__',\n",
       " '__eq__',\n",
       " '__format__',\n",
       " '__ge__',\n",
       " '__getattribute__',\n",
       " '__getitem__',\n",
       " '__getslice__',\n",
       " '__gt__',\n",
       " '__hash__',\n",
       " '__iadd__',\n",
       " '__imul__',\n",
       " '__init__',\n",
       " '__iter__',\n",
       " '__le__',\n",
       " '__len__',\n",
       " '__lt__',\n",
       " '__mul__',\n",
       " '__ne__',\n",
       " '__new__',\n",
       " '__reduce__',\n",
       " '__reduce_ex__',\n",
       " '__repr__',\n",
       " '__reversed__',\n",
       " '__rmul__',\n",
       " '__setattr__',\n",
       " '__setitem__',\n",
       " '__setslice__',\n",
       " '__sizeof__',\n",
       " '__str__',\n",
       " '__subclasshook__',\n",
       " 'append',\n",
       " 'count',\n",
       " 'extend',\n",
       " 'index',\n",
       " 'insert',\n",
       " 'pop',\n",
       " 'remove',\n",
       " 'reverse',\n",
       " 'sort']"
      ]
     },
     "execution_count": 105,
     "metadata": {},
     "output_type": "execute_result"
    }
   ],
   "source": [
    "# Every object has a dictionary of methods and attributes\n",
    "dir(items)"
   ]
  },
  {
   "cell_type": "code",
   "execution_count": 106,
   "metadata": {
    "collapsed": true
   },
   "outputs": [],
   "source": [
    "items.sort?"
   ]
  },
  {
   "cell_type": "code",
   "execution_count": 107,
   "metadata": {
    "collapsed": false
   },
   "outputs": [
    {
     "data": {
      "text/plain": [
       "[37, 42, 73, 73, 101]"
      ]
     },
     "execution_count": 107,
     "metadata": {},
     "output_type": "execute_result"
    }
   ],
   "source": [
    "# The __NAME__ methods above are special: many Python operations get interpreted\n",
    "# as calls to these methods\n",
    "items.__add__([73, 101])"
   ]
  },
  {
   "cell_type": "code",
   "execution_count": 108,
   "metadata": {
    "collapsed": false
   },
   "outputs": [
    {
     "data": {
      "text/plain": [
       "[37, 42, 73, 73, 101]"
      ]
     },
     "execution_count": 108,
     "metadata": {},
     "output_type": "execute_result"
    }
   ],
   "source": [
    "items + [73, 101]  # Same thing"
   ]
  },
  {
   "cell_type": "code",
   "execution_count": 109,
   "metadata": {
    "collapsed": true
   },
   "outputs": [],
   "source": [
    "# Define a new class of object\n",
    "class Stack(object):\n",
    "    def __init__(self):     # Initialize the stack\n",
    "        self.stack = []\n",
    "    def push(self, object):\n",
    "        self.stack.append(object)\n",
    "    def pop(self):\n",
    "        return self.stack.pop()\n",
    "    def length(self):\n",
    "        return len(self.stack)\n",
    "    def __str__(self):\n",
    "        return str(self.stack)"
   ]
  },
  {
   "cell_type": "code",
   "execution_count": 110,
   "metadata": {
    "collapsed": false
   },
   "outputs": [
    {
     "name": "stdout",
     "output_type": "stream",
     "text": [
      "['Dave']\n"
     ]
    }
   ],
   "source": [
    "# Create a new object of this type and play with it\n",
    "s = Stack()    # Create a stack: calls __init__ method\n",
    "s.push(\"Dave\")\n",
    "print(s)"
   ]
  },
  {
   "cell_type": "code",
   "execution_count": 111,
   "metadata": {
    "collapsed": false
   },
   "outputs": [
    {
     "name": "stdout",
     "output_type": "stream",
     "text": [
      "['Dave', 42]\n"
     ]
    }
   ],
   "source": [
    "s.push(42)\n",
    "print(s)"
   ]
  },
  {
   "cell_type": "code",
   "execution_count": 112,
   "metadata": {
    "collapsed": false
   },
   "outputs": [
    {
     "name": "stdout",
     "output_type": "stream",
     "text": [
      "['Dave', 42, [3, 4, 5]]\n"
     ]
    }
   ],
   "source": [
    "s.push([3,4,5])\n",
    "print(s)"
   ]
  },
  {
   "cell_type": "code",
   "execution_count": 113,
   "metadata": {
    "collapsed": false
   },
   "outputs": [
    {
     "name": "stdout",
     "output_type": "stream",
     "text": [
      "[3, 4, 5]\n",
      "['Dave', 42]\n"
     ]
    }
   ],
   "source": [
    "x = s.pop()\n",
    "print(x)\n",
    "print(s)"
   ]
  },
  {
   "cell_type": "code",
   "execution_count": 114,
   "metadata": {
    "collapsed": false
   },
   "outputs": [
    {
     "name": "stdout",
     "output_type": "stream",
     "text": [
      "42\n",
      "['Dave']\n"
     ]
    }
   ],
   "source": [
    "y = s.pop()\n",
    "print(y)\n",
    "print(s)"
   ]
  },
  {
   "cell_type": "code",
   "execution_count": 115,
   "metadata": {
    "collapsed": true
   },
   "outputs": [],
   "source": [
    "del s  # Destroy s"
   ]
  },
  {
   "cell_type": "code",
   "execution_count": 116,
   "metadata": {
    "collapsed": true
   },
   "outputs": [],
   "source": [
    "# Instead of starting from scratch, we can extend existing classes\n",
    "class Stack(list):    # A Stack is a kind of list, with the following changes...\n",
    "    def push(self, object):\n",
    "        self.append(object)\n",
    "    # list already provides pop"
   ]
  },
  {
   "cell_type": "code",
   "execution_count": 117,
   "metadata": {
    "collapsed": false
   },
   "outputs": [
    {
     "name": "stdout",
     "output_type": "stream",
     "text": [
      "Dave\n",
      "[]\n"
     ]
    }
   ],
   "source": [
    "s = Stack()\n",
    "s.push(\"Dave\")\n",
    "print(s.pop())\n",
    "print(s)"
   ]
  },
  {
   "cell_type": "markdown",
   "metadata": {},
   "source": [
    "## Exceptions"
   ]
  },
  {
   "cell_type": "markdown",
   "metadata": {},
   "source": [
    "Like C# or Java, errors raise exceptions that can be caught"
   ]
  },
  {
   "cell_type": "code",
   "execution_count": 118,
   "metadata": {
    "collapsed": false
   },
   "outputs": [
    {
     "name": "stdout",
     "output_type": "stream",
     "text": [
      "[Errno 2] No such file or directory: 'hungarian_solidarity.txt'\n"
     ]
    }
   ],
   "source": [
    "try:\n",
    "    f = open(\"hungarian_solidarity.txt\", \"r\")\n",
    "except IOError as e:\n",
    "    print(e)"
   ]
  },
  {
   "cell_type": "code",
   "execution_count": 119,
   "metadata": {
    "collapsed": false
   },
   "outputs": [
    {
     "ename": "RuntimeError",
     "evalue": "Try again, Winston",
     "output_type": "error",
     "traceback": [
      "\u001b[0;31m---------------------------------------------------------------------------\u001b[0m",
      "\u001b[0;31mRuntimeError\u001b[0m                              Traceback (most recent call last)",
      "\u001b[0;32m<ipython-input-119-442df3e07bae>\u001b[0m in \u001b[0;36m<module>\u001b[0;34m()\u001b[0m\n\u001b[1;32m      1\u001b[0m \u001b[0;31m# You can raise an error explicitly as follows\u001b[0m\u001b[0;34m\u001b[0m\u001b[0;34m\u001b[0m\u001b[0m\n\u001b[1;32m      2\u001b[0m \u001b[0;32mif\u001b[0m \u001b[0;36m2\u001b[0m \u001b[0;34m+\u001b[0m \u001b[0;36m2\u001b[0m \u001b[0;34m==\u001b[0m \u001b[0;36m4\u001b[0m\u001b[0;34m:\u001b[0m\u001b[0;34m\u001b[0m\u001b[0m\n\u001b[0;32m----> 3\u001b[0;31m     \u001b[0;32mraise\u001b[0m \u001b[0mRuntimeError\u001b[0m\u001b[0;34m(\u001b[0m\u001b[0;34m\"Try again, Winston\"\u001b[0m\u001b[0;34m)\u001b[0m\u001b[0;34m\u001b[0m\u001b[0m\n\u001b[0m",
      "\u001b[0;31mRuntimeError\u001b[0m: Try again, Winston"
     ]
    }
   ],
   "source": [
    "# You can raise an error explicitly as follows\n",
    "if 2 + 2 == 4:\n",
    "    raise RuntimeError(\"Try again, Winston\")"
   ]
  },
  {
   "cell_type": "markdown",
   "metadata": {},
   "source": [
    "Uncaught exceptions propagate up the call stack.  Sometimes resources need to be released in the process (cf. RAII pattern in the C++ world).  Use a context manager for that:"
   ]
  },
  {
   "cell_type": "code",
   "execution_count": 120,
   "metadata": {
    "collapsed": false
   },
   "outputs": [
    {
     "name": "stdout",
     "output_type": "stream",
     "text": [
      "Hello\n"
     ]
    },
    {
     "ename": "RuntimeError",
     "evalue": "oops",
     "output_type": "error",
     "traceback": [
      "\u001b[0;31m---------------------------------------------------------------------------\u001b[0m",
      "\u001b[0;31mRuntimeError\u001b[0m                              Traceback (most recent call last)",
      "\u001b[0;32m<ipython-input-120-67bc9d343e40>\u001b[0m in \u001b[0;36m<module>\u001b[0;34m()\u001b[0m\n\u001b[1;32m      1\u001b[0m \u001b[0;32mwith\u001b[0m \u001b[0mopen\u001b[0m\u001b[0;34m(\u001b[0m\u001b[0;34m\"foo.txt\"\u001b[0m\u001b[0;34m)\u001b[0m \u001b[0;32mas\u001b[0m \u001b[0mf\u001b[0m\u001b[0;34m:\u001b[0m\u001b[0;34m\u001b[0m\u001b[0m\n\u001b[1;32m      2\u001b[0m     \u001b[0;32mprint\u001b[0m\u001b[0;34m(\u001b[0m\u001b[0;34m\"Hello\"\u001b[0m\u001b[0;34m)\u001b[0m\u001b[0;34m\u001b[0m\u001b[0m\n\u001b[0;32m----> 3\u001b[0;31m     \u001b[0;32mraise\u001b[0m \u001b[0mRuntimeError\u001b[0m\u001b[0;34m(\u001b[0m\u001b[0;34m\"oops\"\u001b[0m\u001b[0;34m)\u001b[0m  \u001b[0;31m# File will be closed as exception is propagated\u001b[0m\u001b[0;34m\u001b[0m\u001b[0m\n\u001b[0m\u001b[1;32m      4\u001b[0m     \u001b[0;32mprint\u001b[0m\u001b[0;34m(\u001b[0m\u001b[0;34m\"World\"\u001b[0m\u001b[0;34m)\u001b[0m\u001b[0;34m\u001b[0m\u001b[0m\n",
      "\u001b[0;31mRuntimeError\u001b[0m: oops"
     ]
    }
   ],
   "source": [
    "with open(\"foo.txt\") as f:\n",
    "    print(\"Hello\")\n",
    "    raise RuntimeError(\"oops\")  # File will be closed as exception is propagated\n",
    "    print(\"World\")"
   ]
  },
  {
   "cell_type": "code",
   "execution_count": 121,
   "metadata": {
    "collapsed": false
   },
   "outputs": [
    {
     "name": "stdout",
     "output_type": "stream",
     "text": [
      "Doing something\n"
     ]
    }
   ],
   "source": [
    "# Useful when locking\n",
    "import threading\n",
    "message_lock = threading.Lock()\n",
    "#...\n",
    "with message_lock:  # Acquire lock\n",
    "    print(\"Doing something\")\n",
    "    # Lock released when control flow leaves this block, whether normally or exceptionally"
   ]
  },
  {
   "cell_type": "markdown",
   "metadata": {},
   "source": [
    "## Modules"
   ]
  },
  {
   "cell_type": "markdown",
   "metadata": {},
   "source": [
    "Python code can be spread over different files.  Use `import` to bring in code from a different file."
   ]
  },
  {
   "cell_type": "code",
   "execution_count": 122,
   "metadata": {
    "collapsed": false
   },
   "outputs": [
    {
     "name": "stdout",
     "output_type": "stream",
     "text": [
      "def divide(a,b):\n",
      "    q = a // b\n",
      "    r = a - q*b\n",
      "    return (q,r)\n"
     ]
    }
   ],
   "source": [
    "# Code in a separate `div.py` file\n",
    "for line in open(\"div.py\"):\n",
    "    print(line.rstrip())  # Just remove trailing whitespace"
   ]
  },
  {
   "cell_type": "code",
   "execution_count": 123,
   "metadata": {
    "collapsed": true
   },
   "outputs": [],
   "source": [
    "import div"
   ]
  },
  {
   "cell_type": "code",
   "execution_count": 124,
   "metadata": {
    "collapsed": false
   },
   "outputs": [
    {
     "data": {
      "text/plain": [
       "(79, 14)"
      ]
     },
     "execution_count": 124,
     "metadata": {},
     "output_type": "execute_result"
    }
   ],
   "source": [
    "div.divide(2305, 29)"
   ]
  },
  {
   "cell_type": "code",
   "execution_count": 125,
   "metadata": {
    "collapsed": false
   },
   "outputs": [
    {
     "data": {
      "text/plain": [
       "(79, 14)"
      ]
     },
     "execution_count": 125,
     "metadata": {},
     "output_type": "execute_result"
    }
   ],
   "source": [
    "# Can rename modules during import if convenient\n",
    "import div as foo\n",
    "foo.divide(2305, 29)"
   ]
  },
  {
   "cell_type": "code",
   "execution_count": 126,
   "metadata": {
    "collapsed": false
   },
   "outputs": [
    {
     "data": {
      "text/plain": [
       "(79, 14)"
      ]
     },
     "execution_count": 126,
     "metadata": {},
     "output_type": "execute_result"
    }
   ],
   "source": [
    "# Can import only some symbols from a module\n",
    "from div import divide\n",
    "divide(2305, 29)"
   ]
  },
  {
   "cell_type": "code",
   "execution_count": 127,
   "metadata": {
    "collapsed": true
   },
   "outputs": [],
   "source": [
    "# Can import every symbol\n",
    "from div import *"
   ]
  },
  {
   "cell_type": "code",
   "execution_count": 128,
   "metadata": {
    "collapsed": false
   },
   "outputs": [
    {
     "data": {
      "text/plain": [
       "['Formatter',\n",
       " 'Template',\n",
       " '_TemplateMetaclass',\n",
       " '__builtins__',\n",
       " '__doc__',\n",
       " '__file__',\n",
       " '__name__',\n",
       " '__package__',\n",
       " '_float',\n",
       " '_idmap',\n",
       " '_idmapL',\n",
       " '_int',\n",
       " '_long',\n",
       " '_multimap',\n",
       " '_re',\n",
       " 'ascii_letters',\n",
       " 'ascii_lowercase',\n",
       " 'ascii_uppercase',\n",
       " 'atof',\n",
       " 'atof_error',\n",
       " 'atoi',\n",
       " 'atoi_error',\n",
       " 'atol',\n",
       " 'atol_error',\n",
       " 'capitalize',\n",
       " 'capwords',\n",
       " 'center',\n",
       " 'count',\n",
       " 'digits',\n",
       " 'expandtabs',\n",
       " 'find',\n",
       " 'hexdigits',\n",
       " 'index',\n",
       " 'index_error',\n",
       " 'join',\n",
       " 'joinfields',\n",
       " 'letters',\n",
       " 'ljust',\n",
       " 'lower',\n",
       " 'lowercase',\n",
       " 'lstrip',\n",
       " 'maketrans',\n",
       " 'octdigits',\n",
       " 'printable',\n",
       " 'punctuation',\n",
       " 'replace',\n",
       " 'rfind',\n",
       " 'rindex',\n",
       " 'rjust',\n",
       " 'rsplit',\n",
       " 'rstrip',\n",
       " 'split',\n",
       " 'splitfields',\n",
       " 'strip',\n",
       " 'swapcase',\n",
       " 'translate',\n",
       " 'upper',\n",
       " 'uppercase',\n",
       " 'whitespace',\n",
       " 'zfill']"
      ]
     },
     "execution_count": 128,
     "metadata": {},
     "output_type": "execute_result"
    }
   ],
   "source": [
    "# Modules are objects, we can inspect them dynamically\n",
    "import string\n",
    "dir(string)"
   ]
  },
  {
   "cell_type": "markdown",
   "metadata": {},
   "source": [
    "## Getting help"
   ]
  },
  {
   "cell_type": "code",
   "execution_count": 129,
   "metadata": {
    "collapsed": false
   },
   "outputs": [
    {
     "name": "stdout",
     "output_type": "stream",
     "text": [
      "issubclass(C, B) -> bool\n",
      "\n",
      "Return whether class C is a subclass (i.e., a derived class) of class B.\n",
      "When using a tuple as the second argument issubclass(X, (A, B, ...)),\n",
      "is a shortcut for issubclass(X, A) or issubclass(X, B) or ... (etc.).\n"
     ]
    }
   ],
   "source": [
    "# Built-in Python syntax\n",
    "print issubclass.__doc__   # Every function / class / module / ... can have a doc-string"
   ]
  },
  {
   "cell_type": "code",
   "execution_count": 130,
   "metadata": {
    "collapsed": true
   },
   "outputs": [],
   "source": [
    "# IPython has nicer implementation\n",
    "issubclass?"
   ]
  },
  {
   "cell_type": "code",
   "execution_count": 131,
   "metadata": {
    "collapsed": true
   },
   "outputs": [],
   "source": [
    "# IPython can show you underlying source code\n",
    "import string\n",
    "string.upper??"
   ]
  }
 ],
 "metadata": {
  "kernelspec": {
   "display_name": "Python 2",
   "language": "python",
   "name": "python2"
  },
  "language_info": {
   "codemirror_mode": {
    "name": "ipython",
    "version": 2
   },
   "file_extension": ".py",
   "mimetype": "text/x-python",
   "name": "python",
   "nbconvert_exporter": "python",
   "pygments_lexer": "ipython2",
   "version": "2.7.11"
  }
 },
 "nbformat": 4,
 "nbformat_minor": 0
}
